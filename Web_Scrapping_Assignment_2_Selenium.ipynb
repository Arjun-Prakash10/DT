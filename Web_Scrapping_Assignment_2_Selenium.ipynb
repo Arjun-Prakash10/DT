{
 "cells": [
  {
   "cell_type": "code",
   "execution_count": 1,
   "metadata": {},
   "outputs": [],
   "source": [
    "import selenium\n",
    "import pandas as pd\n",
    "from selenium import webdriver\n",
    "import time\n",
    "from selenium.common.exceptions import NoSuchElementException"
   ]
  },
  {
   "cell_type": "code",
   "execution_count": 2,
   "metadata": {},
   "outputs": [],
   "source": [
    "driver = webdriver.Chrome(r\"D://chromedriver.exe\")"
   ]
  },
  {
   "cell_type": "markdown",
   "metadata": {},
   "source": [
    "### Q1: Write a python program to scrape data for “Data Analyst” Job position in “Bangalore” location. You have to scrape the job-title, job-location, company_name, experience_required. You have to scrape first 10 jobs data."
   ]
  },
  {
   "cell_type": "code",
   "execution_count": 3,
   "metadata": {},
   "outputs": [],
   "source": [
    "# Fetching the website\n",
    "driver.get(\"https://www.naukri.com/\")"
   ]
  },
  {
   "cell_type": "code",
   "execution_count": 4,
   "metadata": {},
   "outputs": [],
   "source": [
    "# Closing pop-ups\n",
    "try:\n",
    "    driver.find_element_by_xpath(\"//span[@id='block']\").click()\n",
    "except:\n",
    "    print(\"--\")"
   ]
  },
  {
   "cell_type": "code",
   "execution_count": 5,
   "metadata": {},
   "outputs": [],
   "source": [
    "# Entering \"Data Analyst\" in  “Skill,Designations,Companies” field\n",
    "job_inp = driver.find_element_by_xpath(\"//input[@id='qsb-keyword-sugg']\")\n",
    "job_inp.send_keys(\"Data Analyst\")"
   ]
  },
  {
   "cell_type": "code",
   "execution_count": 6,
   "metadata": {},
   "outputs": [],
   "source": [
    "# Entering “Bangalore” in “enter the location” field\n",
    "loc_inp = driver.find_element_by_xpath(\"//input[@id='qsb-location-sugg']\")\n",
    "loc_inp.send_keys(\"Bangalore\")"
   ]
  },
  {
   "cell_type": "code",
   "execution_count": 7,
   "metadata": {},
   "outputs": [],
   "source": [
    "# Clicking Search Button\n",
    "button =  driver.find_element_by_xpath(\"//div[@class='search-btn']/button[@class='btn']\")\n",
    "button.click()"
   ]
  },
  {
   "cell_type": "code",
   "execution_count": 8,
   "metadata": {},
   "outputs": [],
   "source": [
    "# Fetching Job-title, Job-location, Companny Name, Experience details from the website.\n",
    "job_title = driver.find_elements_by_xpath('//a[@class=\"title fw500 ellipsis\"]')\n",
    "company = driver.find_elements_by_xpath('//a[@class=\"subTitle ellipsis fleft\"]')\n",
    "experience = driver.find_elements_by_xpath('//li[@class=\"fleft grey-text br2 placeHolderLi experience\"]')\n",
    "location = driver.find_elements_by_xpath('//li[@class=\"fleft grey-text br2 placeHolderLi location\"]')"
   ]
  },
  {
   "cell_type": "code",
   "execution_count": 9,
   "metadata": {},
   "outputs": [],
   "source": [
    "# Initialising a dictionary to store the data\n",
    "d = {\n",
    "    'Job_Title' : [],\n",
    "    'Location' : [],\n",
    "    'Experience' : [],\n",
    "    'Company_Name' : []\n",
    "}"
   ]
  },
  {
   "cell_type": "code",
   "execution_count": 10,
   "metadata": {},
   "outputs": [],
   "source": [
    "# Adding the text to corresponding keys in the dictionary\n",
    "for i in range(10):\n",
    "    d['Job_Title'].append(job_title[i].text)\n",
    "    d['Location'].append(location[i].text)\n",
    "    d['Experience'].append(experience[i].text)\n",
    "    d['Company_Name'].append(company[i].text)"
   ]
  },
  {
   "cell_type": "code",
   "execution_count": 11,
   "metadata": {},
   "outputs": [
    {
     "data": {
      "text/html": [
       "<div>\n",
       "<style scoped>\n",
       "    .dataframe tbody tr th:only-of-type {\n",
       "        vertical-align: middle;\n",
       "    }\n",
       "\n",
       "    .dataframe tbody tr th {\n",
       "        vertical-align: top;\n",
       "    }\n",
       "\n",
       "    .dataframe thead th {\n",
       "        text-align: right;\n",
       "    }\n",
       "</style>\n",
       "<table border=\"1\" class=\"dataframe\">\n",
       "  <thead>\n",
       "    <tr style=\"text-align: right;\">\n",
       "      <th></th>\n",
       "      <th>Job_Title</th>\n",
       "      <th>Location</th>\n",
       "      <th>Experience</th>\n",
       "      <th>Company_Name</th>\n",
       "    </tr>\n",
       "  </thead>\n",
       "  <tbody>\n",
       "    <tr>\n",
       "      <th>0</th>\n",
       "      <td>Data Engineer/Data Analyst- Chennai</td>\n",
       "      <td>Hyderabad/Secunderabad, Pune, Chennai, Bangalo...</td>\n",
       "      <td>0-2 Yrs</td>\n",
       "      <td>Inflexion Analytix Private Limited</td>\n",
       "    </tr>\n",
       "    <tr>\n",
       "      <th>1</th>\n",
       "      <td>Azure Data Analyst</td>\n",
       "      <td>Bangalore/Bengaluru</td>\n",
       "      <td>6-8 Yrs</td>\n",
       "      <td>Capgemini Technology Services India Limited</td>\n",
       "    </tr>\n",
       "    <tr>\n",
       "      <th>2</th>\n",
       "      <td>Data Analyst</td>\n",
       "      <td>Bangalore/Bengaluru</td>\n",
       "      <td>0-0 Yrs</td>\n",
       "      <td>RedLock, Inc</td>\n",
       "    </tr>\n",
       "    <tr>\n",
       "      <th>3</th>\n",
       "      <td>Data Analyst</td>\n",
       "      <td>Bangalore/Bengaluru(Devalapur)</td>\n",
       "      <td>0-2 Yrs</td>\n",
       "      <td>Super India Tech Mark</td>\n",
       "    </tr>\n",
       "    <tr>\n",
       "      <th>4</th>\n",
       "      <td>Data Analyst</td>\n",
       "      <td>Bangalore/Bengaluru</td>\n",
       "      <td>4-8 Yrs</td>\n",
       "      <td>tech mahindra ltd</td>\n",
       "    </tr>\n",
       "    <tr>\n",
       "      <th>5</th>\n",
       "      <td>Data Analyst</td>\n",
       "      <td>Bangalore/Bengaluru</td>\n",
       "      <td>1-2 Yrs</td>\n",
       "      <td>CONDUENT BUSINESS SERVICES INDIA LLP</td>\n",
       "    </tr>\n",
       "    <tr>\n",
       "      <th>6</th>\n",
       "      <td>Data Analyst</td>\n",
       "      <td>Bangalore/Bengaluru</td>\n",
       "      <td>2-7 Yrs</td>\n",
       "      <td>GlaxoSmithKline Pharmaceuticals Limited</td>\n",
       "    </tr>\n",
       "    <tr>\n",
       "      <th>7</th>\n",
       "      <td>Data Analyst - Alteryx, Tableau and SQL</td>\n",
       "      <td>Bangalore/Bengaluru</td>\n",
       "      <td>2-5 Yrs</td>\n",
       "      <td>Schneider Electric</td>\n",
       "    </tr>\n",
       "    <tr>\n",
       "      <th>8</th>\n",
       "      <td>Data Analyst</td>\n",
       "      <td>Bangalore/Bengaluru</td>\n",
       "      <td>3-6 Yrs</td>\n",
       "      <td>Myntra Designs Pvt. Ltd.</td>\n",
       "    </tr>\n",
       "    <tr>\n",
       "      <th>9</th>\n",
       "      <td>Data Analyst</td>\n",
       "      <td>Bangalore/Bengaluru</td>\n",
       "      <td>4-8 Yrs</td>\n",
       "      <td>Myntra Designs Pvt. Ltd.</td>\n",
       "    </tr>\n",
       "  </tbody>\n",
       "</table>\n",
       "</div>"
      ],
      "text/plain": [
       "                                 Job_Title  \\\n",
       "0      Data Engineer/Data Analyst- Chennai   \n",
       "1                       Azure Data Analyst   \n",
       "2                             Data Analyst   \n",
       "3                             Data Analyst   \n",
       "4                             Data Analyst   \n",
       "5                             Data Analyst   \n",
       "6                             Data Analyst   \n",
       "7  Data Analyst - Alteryx, Tableau and SQL   \n",
       "8                             Data Analyst   \n",
       "9                             Data Analyst   \n",
       "\n",
       "                                            Location Experience  \\\n",
       "0  Hyderabad/Secunderabad, Pune, Chennai, Bangalo...    0-2 Yrs   \n",
       "1                                Bangalore/Bengaluru    6-8 Yrs   \n",
       "2                                Bangalore/Bengaluru    0-0 Yrs   \n",
       "3                     Bangalore/Bengaluru(Devalapur)    0-2 Yrs   \n",
       "4                                Bangalore/Bengaluru    4-8 Yrs   \n",
       "5                                Bangalore/Bengaluru    1-2 Yrs   \n",
       "6                                Bangalore/Bengaluru    2-7 Yrs   \n",
       "7                                Bangalore/Bengaluru    2-5 Yrs   \n",
       "8                                Bangalore/Bengaluru    3-6 Yrs   \n",
       "9                                Bangalore/Bengaluru    4-8 Yrs   \n",
       "\n",
       "                                  Company_Name  \n",
       "0           Inflexion Analytix Private Limited  \n",
       "1  Capgemini Technology Services India Limited  \n",
       "2                                 RedLock, Inc  \n",
       "3                        Super India Tech Mark  \n",
       "4                            tech mahindra ltd  \n",
       "5         CONDUENT BUSINESS SERVICES INDIA LLP  \n",
       "6      GlaxoSmithKline Pharmaceuticals Limited  \n",
       "7                           Schneider Electric  \n",
       "8                     Myntra Designs Pvt. Ltd.  \n",
       "9                     Myntra Designs Pvt. Ltd.  "
      ]
     },
     "execution_count": 11,
     "metadata": {},
     "output_type": "execute_result"
    }
   ],
   "source": [
    "# Converting to DataFrame\n",
    "df = pd.DataFrame(d)\n",
    "df"
   ]
  },
  {
   "cell_type": "markdown",
   "metadata": {},
   "source": [
    "### Q2: Write a python program to scrape data for “Data Scientist” Job position in “Bangalore” location. You have to scrape the job-title, job-location, company_name, full job-description. You have to scrape first 10 jobs data."
   ]
  },
  {
   "cell_type": "code",
   "execution_count": 12,
   "metadata": {},
   "outputs": [],
   "source": [
    "# Fetching the website\n",
    "driver.get(\"https://www.naukri.com/\")"
   ]
  },
  {
   "cell_type": "code",
   "execution_count": 13,
   "metadata": {},
   "outputs": [],
   "source": [
    "# Entering \"Data Scientist\" in  “Skill,Designations,Companies” field\n",
    "job_inp = driver.find_element_by_xpath(\"//input[@id='qsb-keyword-sugg']\")\n",
    "job_inp.send_keys(\"Data Scientist\")"
   ]
  },
  {
   "cell_type": "code",
   "execution_count": 14,
   "metadata": {},
   "outputs": [],
   "source": [
    "# Entering “Bangalore” in “enter the location” field\n",
    "loc_inp = driver.find_element_by_xpath(\"//input[@id='qsb-location-sugg']\")\n",
    "loc_inp.send_keys(\"Bangalore\")"
   ]
  },
  {
   "cell_type": "code",
   "execution_count": 15,
   "metadata": {},
   "outputs": [],
   "source": [
    "# Clicking Search Button\n",
    "button =  driver.find_element_by_xpath(\"//div[@class='search-btn']/button[@class='btn']\")\n",
    "button.click()"
   ]
  },
  {
   "cell_type": "code",
   "execution_count": 16,
   "metadata": {},
   "outputs": [],
   "source": [
    "# Fetching Job-title, Job-location, Companny Name details from the website.\n",
    "job_title = driver.find_elements_by_xpath('//a[@class=\"title fw500 ellipsis\"]')\n",
    "company = driver.find_elements_by_xpath('//a[@class=\"subTitle ellipsis fleft\"]')\n",
    "location = driver.find_elements_by_xpath('//li[@class=\"fleft grey-text br2 placeHolderLi location\"]')"
   ]
  },
  {
   "cell_type": "code",
   "execution_count": 17,
   "metadata": {},
   "outputs": [],
   "source": [
    "# Getting Job Description URLS\n",
    "desc_url = []\n",
    "for i in range(10):\n",
    "    desc_url.append(job_title[i].get_property('href'))"
   ]
  },
  {
   "cell_type": "code",
   "execution_count": 18,
   "metadata": {},
   "outputs": [],
   "source": [
    "# Initialising a dictionary to store the data\n",
    "d = {\n",
    "    'Job_Title' : [],\n",
    "    'Location' : [],\n",
    "    'Company_Name' : [],\n",
    "    'Job_Description' : []\n",
    "}"
   ]
  },
  {
   "cell_type": "code",
   "execution_count": 19,
   "metadata": {},
   "outputs": [],
   "source": [
    "# Adding the text to corresponding keys in the dictionary\n",
    "for i in range(10):\n",
    "    d['Job_Title'].append(job_title[i].text)\n",
    "    d['Location'].append(location[i].text)\n",
    "    d['Company_Name'].append(company[i].text)"
   ]
  },
  {
   "cell_type": "code",
   "execution_count": 20,
   "metadata": {},
   "outputs": [],
   "source": [
    "# Accessing each url from the desc_url list and fetching the job description\n",
    "\n",
    "for i in desc_url:\n",
    "    try:\n",
    "        driver.get(i)\n",
    "        time.sleep(2)\n",
    "\n",
    "        temp = driver.find_element_by_xpath(\"//h2[contains(text(),'Job description') or contains(text(),'Job Description')]//ancestor::section[1]\").text\n",
    "        d['Job_Description'].append(temp)\n",
    "\n",
    "    except NoSuchElementException as e:\n",
    "        d['Job_Description'].append(i)\n",
    "        continue"
   ]
  },
  {
   "cell_type": "code",
   "execution_count": 21,
   "metadata": {},
   "outputs": [
    {
     "data": {
      "text/html": [
       "<div>\n",
       "<style scoped>\n",
       "    .dataframe tbody tr th:only-of-type {\n",
       "        vertical-align: middle;\n",
       "    }\n",
       "\n",
       "    .dataframe tbody tr th {\n",
       "        vertical-align: top;\n",
       "    }\n",
       "\n",
       "    .dataframe thead th {\n",
       "        text-align: right;\n",
       "    }\n",
       "</style>\n",
       "<table border=\"1\" class=\"dataframe\">\n",
       "  <thead>\n",
       "    <tr style=\"text-align: right;\">\n",
       "      <th></th>\n",
       "      <th>Job_Title</th>\n",
       "      <th>Location</th>\n",
       "      <th>Company_Name</th>\n",
       "      <th>Job_Description</th>\n",
       "    </tr>\n",
       "  </thead>\n",
       "  <tbody>\n",
       "    <tr>\n",
       "      <th>0</th>\n",
       "      <td>Data Scientist</td>\n",
       "      <td>Bangalore/Bengaluru</td>\n",
       "      <td>CronJ IT Technologies Private Limited</td>\n",
       "      <td>Job description\\nResponsibilities and Duties\\n...</td>\n",
       "    </tr>\n",
       "    <tr>\n",
       "      <th>1</th>\n",
       "      <td>Opportunity For Data Scientist Internship - Be...</td>\n",
       "      <td>Bangalore/Bengaluru</td>\n",
       "      <td>Corner Stone Solutions</td>\n",
       "      <td>Job description\\nLocation - Bangalore / Bengal...</td>\n",
       "    </tr>\n",
       "    <tr>\n",
       "      <th>2</th>\n",
       "      <td>Data Scientist - Machine Learning</td>\n",
       "      <td>Bangalore/Bengaluru</td>\n",
       "      <td>AugmatrixGo</td>\n",
       "      <td>Job description\\nRoles and Responsibilities\\n\\...</td>\n",
       "    </tr>\n",
       "    <tr>\n",
       "      <th>3</th>\n",
       "      <td>Data Scientist || Data Analyst || Data science</td>\n",
       "      <td>Navi Mumbai, Bangalore/Bengaluru</td>\n",
       "      <td>Inspiration Manpower Consultancy Pvt. Ltd.</td>\n",
       "      <td>Job description\\nJob description\\nJob Summary ...</td>\n",
       "    </tr>\n",
       "    <tr>\n",
       "      <th>4</th>\n",
       "      <td>Data Scientist - IBM Garage</td>\n",
       "      <td>Noida, Hyderabad/Secunderabad, Bangalore/Benga...</td>\n",
       "      <td>IBM India Pvt. Limited</td>\n",
       "      <td>Job Description\\nIntroduction\\nIBM is continuo...</td>\n",
       "    </tr>\n",
       "    <tr>\n",
       "      <th>5</th>\n",
       "      <td>GAMMA Lead Data Scientist</td>\n",
       "      <td>Mumbai, New Delhi, Chennai, Bangalore/Bengaluru</td>\n",
       "      <td>Boston Consulting Group</td>\n",
       "      <td>Job description\\n  Practice Area Profile\\nBCG ...</td>\n",
       "    </tr>\n",
       "    <tr>\n",
       "      <th>6</th>\n",
       "      <td>DBCG IND - GAMMA Senior Data Scientist</td>\n",
       "      <td>Mumbai, New Delhi, Chennai, Bangalore/Bengaluru</td>\n",
       "      <td>Boston Consulting Group</td>\n",
       "      <td>Job description\\n    What Youll Do\\n\\nWe re lo...</td>\n",
       "    </tr>\n",
       "    <tr>\n",
       "      <th>7</th>\n",
       "      <td>Data Scientist/Senior Data Scientist</td>\n",
       "      <td>Hyderabad/Secunderabad, Pune, Chennai, Bangalo...</td>\n",
       "      <td>GANIT BUSINESS SOLUTIONS PRIVATE LIMITED</td>\n",
       "      <td>Job description\\n\\nAbout Ganit Inc\\n\\nFounded ...</td>\n",
       "    </tr>\n",
       "    <tr>\n",
       "      <th>8</th>\n",
       "      <td>Senior Data Scientist | CES IT LTD | CMMI Level 5</td>\n",
       "      <td>Kolkata, Mumbai, Hyderabad/Secunderabad, Pune,...</td>\n",
       "      <td>CES Ltd.</td>\n",
       "      <td>Job description\\nRoles and Responsibilities\\n\\...</td>\n",
       "    </tr>\n",
       "    <tr>\n",
       "      <th>9</th>\n",
       "      <td>Global Medical Data Scientist</td>\n",
       "      <td>Bangalore/Bengaluru</td>\n",
       "      <td>GlaxoSmithKline Pharmaceuticals Limited</td>\n",
       "      <td>Job Description\\nThis is an ideal role for an ...</td>\n",
       "    </tr>\n",
       "  </tbody>\n",
       "</table>\n",
       "</div>"
      ],
      "text/plain": [
       "                                           Job_Title  \\\n",
       "0                                     Data Scientist   \n",
       "1  Opportunity For Data Scientist Internship - Be...   \n",
       "2                  Data Scientist - Machine Learning   \n",
       "3     Data Scientist || Data Analyst || Data science   \n",
       "4                        Data Scientist - IBM Garage   \n",
       "5                          GAMMA Lead Data Scientist   \n",
       "6             DBCG IND - GAMMA Senior Data Scientist   \n",
       "7               Data Scientist/Senior Data Scientist   \n",
       "8  Senior Data Scientist | CES IT LTD | CMMI Level 5   \n",
       "9                      Global Medical Data Scientist   \n",
       "\n",
       "                                            Location  \\\n",
       "0                                Bangalore/Bengaluru   \n",
       "1                                Bangalore/Bengaluru   \n",
       "2                                Bangalore/Bengaluru   \n",
       "3                   Navi Mumbai, Bangalore/Bengaluru   \n",
       "4  Noida, Hyderabad/Secunderabad, Bangalore/Benga...   \n",
       "5    Mumbai, New Delhi, Chennai, Bangalore/Bengaluru   \n",
       "6    Mumbai, New Delhi, Chennai, Bangalore/Bengaluru   \n",
       "7  Hyderabad/Secunderabad, Pune, Chennai, Bangalo...   \n",
       "8  Kolkata, Mumbai, Hyderabad/Secunderabad, Pune,...   \n",
       "9                                Bangalore/Bengaluru   \n",
       "\n",
       "                                 Company_Name  \\\n",
       "0       CronJ IT Technologies Private Limited   \n",
       "1                      Corner Stone Solutions   \n",
       "2                                 AugmatrixGo   \n",
       "3  Inspiration Manpower Consultancy Pvt. Ltd.   \n",
       "4                      IBM India Pvt. Limited   \n",
       "5                     Boston Consulting Group   \n",
       "6                     Boston Consulting Group   \n",
       "7    GANIT BUSINESS SOLUTIONS PRIVATE LIMITED   \n",
       "8                                    CES Ltd.   \n",
       "9     GlaxoSmithKline Pharmaceuticals Limited   \n",
       "\n",
       "                                     Job_Description  \n",
       "0  Job description\\nResponsibilities and Duties\\n...  \n",
       "1  Job description\\nLocation - Bangalore / Bengal...  \n",
       "2  Job description\\nRoles and Responsibilities\\n\\...  \n",
       "3  Job description\\nJob description\\nJob Summary ...  \n",
       "4  Job Description\\nIntroduction\\nIBM is continuo...  \n",
       "5  Job description\\n  Practice Area Profile\\nBCG ...  \n",
       "6  Job description\\n    What Youll Do\\n\\nWe re lo...  \n",
       "7  Job description\\n\\nAbout Ganit Inc\\n\\nFounded ...  \n",
       "8  Job description\\nRoles and Responsibilities\\n\\...  \n",
       "9  Job Description\\nThis is an ideal role for an ...  "
      ]
     },
     "execution_count": 21,
     "metadata": {},
     "output_type": "execute_result"
    }
   ],
   "source": [
    "# Converting to DataFrame\n",
    "df = pd.DataFrame(d)\n",
    "df"
   ]
  },
  {
   "cell_type": "markdown",
   "metadata": {},
   "source": [
    "### Q3: In this question you have to scrape data using the filters available on thewebpage:\n",
    "\n",
    "### You have to use the location and salary filter.\n",
    "### You have to scrape data for “Data Scientist” designation for first 10 job results.\n",
    "### You have to scrape the job-title, job-location, company_name,\n",
    "### experience_required.\n",
    "### The location filter to be used is “Delhi/NCR”\n",
    "### The salary filter to be used is “3-6” lakhs"
   ]
  },
  {
   "cell_type": "code",
   "execution_count": 22,
   "metadata": {},
   "outputs": [],
   "source": [
    "# Fetching the website\n",
    "driver.get(\"https://www.naukri.com/\")"
   ]
  },
  {
   "cell_type": "code",
   "execution_count": 23,
   "metadata": {},
   "outputs": [],
   "source": [
    "# Entering \"Data Scientist\" in  “Skill,Designations,Companies” field\n",
    "job_inp = driver.find_element_by_xpath(\"//input[@id='qsb-keyword-sugg']\")\n",
    "job_inp.send_keys(\"Data Scientist\")"
   ]
  },
  {
   "cell_type": "code",
   "execution_count": 24,
   "metadata": {},
   "outputs": [],
   "source": [
    "# Clicking Search Button\n",
    "button =  driver.find_element_by_xpath(\"//div[@class='search-btn']/button[@class='btn']\")\n",
    "button.click()"
   ]
  },
  {
   "cell_type": "code",
   "execution_count": 25,
   "metadata": {},
   "outputs": [],
   "source": [
    "# Selecting \"Delhi/NCR\" in location filter\n",
    "label = driver.find_element_by_xpath(\"//label[@for='chk-Delhi / NCR-cityTypeGid-']\")\n",
    "label.find_element_by_tag_name(\"i\").click()"
   ]
  },
  {
   "cell_type": "code",
   "execution_count": 26,
   "metadata": {},
   "outputs": [],
   "source": [
    "# Selecting \"3-6 lakhs\" in salary filter\n",
    "label = driver.find_element_by_xpath(\"//label[@for='chk-3-6 Lakhs-ctcFilter-']\")\n",
    "label.find_element_by_tag_name(\"i\").click()"
   ]
  },
  {
   "cell_type": "code",
   "execution_count": 27,
   "metadata": {},
   "outputs": [],
   "source": [
    "# Fetching Job-title, Job-location, Companny Name, Experience details from the website.\n",
    "job_title = driver.find_elements_by_xpath('//a[@class=\"title fw500 ellipsis\"]')\n",
    "company = driver.find_elements_by_xpath('//a[@class=\"subTitle ellipsis fleft\"]')\n",
    "experience = driver.find_elements_by_xpath('//li[@class=\"fleft grey-text br2 placeHolderLi experience\"]')\n",
    "location = driver.find_elements_by_xpath('//li[@class=\"fleft grey-text br2 placeHolderLi location\"]')"
   ]
  },
  {
   "cell_type": "code",
   "execution_count": 28,
   "metadata": {},
   "outputs": [],
   "source": [
    "# Initialising a dictionary to store the data\n",
    "d = {\n",
    "    'Job_Title' : [],\n",
    "    'Location' : [],\n",
    "    'Experience' : [],\n",
    "    'Company_Name' : []\n",
    "}"
   ]
  },
  {
   "cell_type": "code",
   "execution_count": 29,
   "metadata": {},
   "outputs": [],
   "source": [
    "# Adding the text to corresponding keys in the dictionary\n",
    "for i in range(10):\n",
    "    d['Job_Title'].append(job_title[i].text)\n",
    "    d['Location'].append(location[i].text)\n",
    "    d['Experience'].append(experience[i].text)\n",
    "    d['Company_Name'].append(company[i].text)"
   ]
  },
  {
   "cell_type": "code",
   "execution_count": 30,
   "metadata": {},
   "outputs": [
    {
     "data": {
      "text/html": [
       "<div>\n",
       "<style scoped>\n",
       "    .dataframe tbody tr th:only-of-type {\n",
       "        vertical-align: middle;\n",
       "    }\n",
       "\n",
       "    .dataframe tbody tr th {\n",
       "        vertical-align: top;\n",
       "    }\n",
       "\n",
       "    .dataframe thead th {\n",
       "        text-align: right;\n",
       "    }\n",
       "</style>\n",
       "<table border=\"1\" class=\"dataframe\">\n",
       "  <thead>\n",
       "    <tr style=\"text-align: right;\">\n",
       "      <th></th>\n",
       "      <th>Job_Title</th>\n",
       "      <th>Location</th>\n",
       "      <th>Experience</th>\n",
       "      <th>Company_Name</th>\n",
       "    </tr>\n",
       "  </thead>\n",
       "  <tbody>\n",
       "    <tr>\n",
       "      <th>0</th>\n",
       "      <td>Data Scientist - IBM Garage</td>\n",
       "      <td>Noida, Hyderabad/Secunderabad, Bangalore/Benga...</td>\n",
       "      <td>5-8 Yrs</td>\n",
       "      <td>IBM India Pvt. Limited</td>\n",
       "    </tr>\n",
       "    <tr>\n",
       "      <th>1</th>\n",
       "      <td>Data Scientist/Data Analyst - Python/Machine L...</td>\n",
       "      <td>Mumbai, Ghaziabad</td>\n",
       "      <td>5-10 Yrs</td>\n",
       "      <td>Change leaders</td>\n",
       "    </tr>\n",
       "    <tr>\n",
       "      <th>2</th>\n",
       "      <td>Females Required- Data Scientist- Noida</td>\n",
       "      <td>Noida, Gurgaon/Gurugram, Delhi / NCR</td>\n",
       "      <td>3-7 Yrs</td>\n",
       "      <td>Randstad</td>\n",
       "    </tr>\n",
       "    <tr>\n",
       "      <th>3</th>\n",
       "      <td>Data Scientist - Python &amp; Machine Learning</td>\n",
       "      <td>Hyderabad/Secunderabad, Pune, Bangalore/Bengal...</td>\n",
       "      <td>2-7 Yrs</td>\n",
       "      <td>FUTURES AND CAREERS</td>\n",
       "    </tr>\n",
       "    <tr>\n",
       "      <th>4</th>\n",
       "      <td>Data Scientist - Python &amp; Machine Learning</td>\n",
       "      <td>Hyderabad/Secunderabad, Pune, Chennai, Bangalo...</td>\n",
       "      <td>2-7 Yrs</td>\n",
       "      <td>FUTURES AND CAREERS</td>\n",
       "    </tr>\n",
       "    <tr>\n",
       "      <th>5</th>\n",
       "      <td>Data Scientist - Hadoop/BigQuery</td>\n",
       "      <td>Noida</td>\n",
       "      <td>3-6 Yrs</td>\n",
       "      <td>Jubna</td>\n",
       "    </tr>\n",
       "    <tr>\n",
       "      <th>6</th>\n",
       "      <td>Data Scientist - Python / Machine Learning / T...</td>\n",
       "      <td>Mumbai, Hyderabad/Secunderabad, Bangalore/Beng...</td>\n",
       "      <td>3-8 Yrs</td>\n",
       "      <td>FUTURES AND CAREERS</td>\n",
       "    </tr>\n",
       "    <tr>\n",
       "      <th>7</th>\n",
       "      <td>Data Scientist - Python &amp; Machine Learning</td>\n",
       "      <td>Hyderabad/Secunderabad, Bangalore/Bengaluru, D...</td>\n",
       "      <td>2-7 Yrs</td>\n",
       "      <td>FUTURES AND CAREERS</td>\n",
       "    </tr>\n",
       "    <tr>\n",
       "      <th>8</th>\n",
       "      <td>Required- Data Scientist (NLP)-Axis Bank - 6 m...</td>\n",
       "      <td>Kolkata, New Delhi, Hyderabad/Secunderabad, Pu...</td>\n",
       "      <td>4-9 Yrs</td>\n",
       "      <td>Axis Bank Limited</td>\n",
       "    </tr>\n",
       "    <tr>\n",
       "      <th>9</th>\n",
       "      <td>Data Scientist - Python / Machine Learning / T...</td>\n",
       "      <td>Hyderabad/Secunderabad, Bangalore/Bengaluru, D...</td>\n",
       "      <td>3-8 Yrs</td>\n",
       "      <td>FUTURES AND CAREERS</td>\n",
       "    </tr>\n",
       "  </tbody>\n",
       "</table>\n",
       "</div>"
      ],
      "text/plain": [
       "                                           Job_Title  \\\n",
       "0                        Data Scientist - IBM Garage   \n",
       "1  Data Scientist/Data Analyst - Python/Machine L...   \n",
       "2            Females Required- Data Scientist- Noida   \n",
       "3         Data Scientist - Python & Machine Learning   \n",
       "4         Data Scientist - Python & Machine Learning   \n",
       "5                   Data Scientist - Hadoop/BigQuery   \n",
       "6  Data Scientist - Python / Machine Learning / T...   \n",
       "7         Data Scientist - Python & Machine Learning   \n",
       "8  Required- Data Scientist (NLP)-Axis Bank - 6 m...   \n",
       "9  Data Scientist - Python / Machine Learning / T...   \n",
       "\n",
       "                                            Location Experience  \\\n",
       "0  Noida, Hyderabad/Secunderabad, Bangalore/Benga...    5-8 Yrs   \n",
       "1                                  Mumbai, Ghaziabad   5-10 Yrs   \n",
       "2               Noida, Gurgaon/Gurugram, Delhi / NCR    3-7 Yrs   \n",
       "3  Hyderabad/Secunderabad, Pune, Bangalore/Bengal...    2-7 Yrs   \n",
       "4  Hyderabad/Secunderabad, Pune, Chennai, Bangalo...    2-7 Yrs   \n",
       "5                                              Noida    3-6 Yrs   \n",
       "6  Mumbai, Hyderabad/Secunderabad, Bangalore/Beng...    3-8 Yrs   \n",
       "7  Hyderabad/Secunderabad, Bangalore/Bengaluru, D...    2-7 Yrs   \n",
       "8  Kolkata, New Delhi, Hyderabad/Secunderabad, Pu...    4-9 Yrs   \n",
       "9  Hyderabad/Secunderabad, Bangalore/Bengaluru, D...    3-8 Yrs   \n",
       "\n",
       "             Company_Name  \n",
       "0  IBM India Pvt. Limited  \n",
       "1          Change leaders  \n",
       "2                Randstad  \n",
       "3     FUTURES AND CAREERS  \n",
       "4     FUTURES AND CAREERS  \n",
       "5                   Jubna  \n",
       "6     FUTURES AND CAREERS  \n",
       "7     FUTURES AND CAREERS  \n",
       "8       Axis Bank Limited  \n",
       "9     FUTURES AND CAREERS  "
      ]
     },
     "execution_count": 30,
     "metadata": {},
     "output_type": "execute_result"
    }
   ],
   "source": [
    "# Converting to DataFrame\n",
    "df = pd.DataFrame(d)\n",
    "df"
   ]
  },
  {
   "cell_type": "markdown",
   "metadata": {},
   "source": [
    "### Q4: Write a python program to scrape data for first 10 job results for Data scientist Designation in Noida location. You have to scrape company_name, No. of days ago when job was posted, Rating of the company."
   ]
  },
  {
   "cell_type": "code",
   "execution_count": 31,
   "metadata": {},
   "outputs": [],
   "source": [
    "# Fetching the website\n",
    "driver.get(\"https://www.glassdoor.co.in/index.htm\")"
   ]
  },
  {
   "cell_type": "code",
   "execution_count": 32,
   "metadata": {},
   "outputs": [],
   "source": [
    "# Signing In\n",
    "try:\n",
    "    sign_in = driver.find_element_by_xpath(\"//button[contains(text(),'Sign In')]\")\n",
    "    sign_in.click()\n",
    "except NoSuchElementException:\n",
    "    sign_in = driver.find_element_by_xpath(\"//a[contains(text(),'Sign In')]\")\n",
    "    sign_in.click()"
   ]
  },
  {
   "cell_type": "code",
   "execution_count": 33,
   "metadata": {},
   "outputs": [],
   "source": [
    "# Using Google Sign In\n",
    "google_signin_btn =  driver.find_element_by_xpath(\"//button[@class='google gd-btn ']\")\n",
    "google_signin_btn.click()"
   ]
  },
  {
   "cell_type": "code",
   "execution_count": 34,
   "metadata": {},
   "outputs": [
    {
     "name": "stderr",
     "output_type": "stream",
     "text": [
      "<ipython-input-34-dba657038327>:3: DeprecationWarning: use driver.switch_to.window instead\n",
      "  driver.switch_to_window(pop_up_win)\n"
     ]
    }
   ],
   "source": [
    "# Switching context to the pop up window\n",
    "pop_up_win = driver.window_handles[1]\n",
    "driver.switch_to_window(pop_up_win)"
   ]
  },
  {
   "cell_type": "code",
   "execution_count": 35,
   "metadata": {},
   "outputs": [],
   "source": [
    "# Entering the username and Cllcking the next button\n",
    "username_field = driver.find_element_by_xpath(\"//input[@id='identifierId']\")\n",
    "username_field.send_keys('arjunprakash.t.2017.cse@rajalakshmi.edu.in')\n",
    "next_btn = driver.find_element_by_xpath(\"//button[@class= 'VfPpkd-LgbsSe VfPpkd-LgbsSe-OWXEXe-k8QpJ VfPpkd-LgbsSe-OWXEXe-dgl2Hf nCP5yc AjY5Oe DuMIQc qIypjc TrZEUc lw1w4b']\")\n",
    "next_btn.click()"
   ]
  },
  {
   "cell_type": "code",
   "execution_count": 36,
   "metadata": {},
   "outputs": [],
   "source": [
    "# Entering the username and Cllcking the next button\n",
    "pwd_field = driver.find_element_by_xpath(\"//input[@name='password']\")\n",
    "pwd_field.send_keys('worldismine10')\n",
    "next_btn = driver.find_element_by_xpath(\"//button[@class= 'VfPpkd-LgbsSe VfPpkd-LgbsSe-OWXEXe-k8QpJ VfPpkd-LgbsSe-OWXEXe-dgl2Hf nCP5yc AjY5Oe DuMIQc qIypjc TrZEUc lw1w4b']\")\n",
    "next_btn.click()"
   ]
  },
  {
   "cell_type": "code",
   "execution_count": 37,
   "metadata": {},
   "outputs": [
    {
     "name": "stderr",
     "output_type": "stream",
     "text": [
      "<ipython-input-37-e95b59c2c857>:3: DeprecationWarning: use driver.switch_to.window instead\n",
      "  driver.switch_to_window(curr_win)\n"
     ]
    }
   ],
   "source": [
    "# Switching context to the original window\n",
    "curr_win = driver.window_handles[0]\n",
    "driver.switch_to_window(curr_win)"
   ]
  },
  {
   "cell_type": "code",
   "execution_count": 38,
   "metadata": {},
   "outputs": [],
   "source": [
    "# Entering \"Data Scientist\" in  “Job Title, Keywords or Company” field\n",
    "job_inp = driver.find_element_by_xpath(\"//input[@id='sc.keyword']\")\n",
    "job_inp.send_keys('Data Scientist')"
   ]
  },
  {
   "cell_type": "code",
   "execution_count": 39,
   "metadata": {},
   "outputs": [],
   "source": [
    "# Entering “Noida” in “location” field\n",
    "from selenium.webdriver.common.keys import Keys\n",
    "\n",
    "loc_inp = driver.find_element_by_xpath(\"//input[@placeholder='Location']\")\n",
    "loc_inp.send_keys(Keys.CONTROL,\"A\",Keys.DELETE)\n",
    "loc_inp.send_keys(\"Noida\")"
   ]
  },
  {
   "cell_type": "code",
   "execution_count": 40,
   "metadata": {},
   "outputs": [],
   "source": [
    "# Clicking Search Button\n",
    "button =  driver.find_element_by_xpath(\"//button[@class='gd-ui-button ml-std col-auto SearchStyles__newSearchButton css-iixdfr']\")\n",
    "button.click()"
   ]
  },
  {
   "cell_type": "code",
   "execution_count": 41,
   "metadata": {},
   "outputs": [
    {
     "name": "stdout",
     "output_type": "stream",
     "text": [
      "--\n"
     ]
    }
   ],
   "source": [
    "# Closing pop-ups\n",
    "try:\n",
    "    driver.find_element_by_xpath(\".//span[@alt='Close']\").click()\n",
    "except:\n",
    "    print(\"--\")"
   ]
  },
  {
   "cell_type": "code",
   "execution_count": 42,
   "metadata": {},
   "outputs": [],
   "source": [
    "# Fetching Company name and No. of days ago when job was posted\n",
    "company_name =  driver.find_elements_by_xpath(\"//a[@class=' css-l2wjgv e1n63ojh0 jobLink']\")\n",
    "post_age =  driver.find_elements_by_xpath(\"//div[@data-test='job-age']\")"
   ]
  },
  {
   "cell_type": "code",
   "execution_count": 43,
   "metadata": {},
   "outputs": [],
   "source": [
    "# Fetching details of each job to get ratings\n",
    "list_ = driver.find_elements_by_xpath(\"//li[@class='react-job-listing css-wp148e eigr9kq3']\")"
   ]
  },
  {
   "cell_type": "code",
   "execution_count": 44,
   "metadata": {},
   "outputs": [],
   "source": [
    "# Initialising a dictionary to store the data\n",
    "d = {\n",
    "    'Company_Name' : [],\n",
    "    'Post_Age' : [],\n",
    "    'Rating' : []\n",
    "}"
   ]
  },
  {
   "cell_type": "code",
   "execution_count": 45,
   "metadata": {},
   "outputs": [],
   "source": [
    "# Adding the text to corresponding keys in the dictionary\n",
    "for i in range(10):\n",
    "    d['Post_Age'].append(post_age[i].text)\n",
    "    d['Company_Name'].append(company_name[i].text)"
   ]
  },
  {
   "cell_type": "code",
   "execution_count": 46,
   "metadata": {},
   "outputs": [
    {
     "name": "stdout",
     "output_type": "stream",
     "text": [
      "3.8\n"
     ]
    }
   ],
   "source": [
    "# Adding first job's rating\n",
    "import time\n",
    "try:\n",
    "    temp = driver.find_element_by_xpath(\"//span[@class='css-1m5m32b e1tk4kwz2']\").text\n",
    "    print(temp)\n",
    "    d['Rating'].append(temp)\n",
    "    time.sleep(2)\n",
    "except:\n",
    "    print(\"-----------\")"
   ]
  },
  {
   "cell_type": "code",
   "execution_count": 47,
   "metadata": {},
   "outputs": [
    {
     "name": "stdout",
     "output_type": "stream",
     "text": [
      "--------\n",
      "\n",
      "4.4\n",
      "\n",
      "--------\n",
      "\n",
      "5.0\n",
      "\n",
      "3.6\n",
      "\n",
      "3.0\n",
      "\n",
      "4.0\n",
      "\n",
      "--------\n",
      "\n",
      "3.8\n"
     ]
    }
   ],
   "source": [
    "# Adding the rating of the remaining 9 jobs\n",
    "for i in list_[:9]:\n",
    "    i.click()\n",
    "    time.sleep(3)\n",
    "    try:\n",
    "        driver.find_element_by_xpath(\".//span[@alt='Close']\").click()\n",
    "    except:\n",
    "        print()\n",
    "    finally:\n",
    "        try:\n",
    "            temp =i.find_element_by_xpath(\"//span[@class='css-1m5m32b e1tk4kwz2']\").text\n",
    "            time.sleep(3)\n",
    "            print(temp)\n",
    "            d['Rating'].append(temp)\n",
    "        except:\n",
    "            d['Rating'].append(\"NA\")\n",
    "            print(\"--------\")"
   ]
  },
  {
   "cell_type": "code",
   "execution_count": 48,
   "metadata": {},
   "outputs": [
    {
     "data": {
      "text/html": [
       "<div>\n",
       "<style scoped>\n",
       "    .dataframe tbody tr th:only-of-type {\n",
       "        vertical-align: middle;\n",
       "    }\n",
       "\n",
       "    .dataframe tbody tr th {\n",
       "        vertical-align: top;\n",
       "    }\n",
       "\n",
       "    .dataframe thead th {\n",
       "        text-align: right;\n",
       "    }\n",
       "</style>\n",
       "<table border=\"1\" class=\"dataframe\">\n",
       "  <thead>\n",
       "    <tr style=\"text-align: right;\">\n",
       "      <th></th>\n",
       "      <th>Company_Name</th>\n",
       "      <th>Post_Age</th>\n",
       "      <th>Rating</th>\n",
       "    </tr>\n",
       "  </thead>\n",
       "  <tbody>\n",
       "    <tr>\n",
       "      <th>0</th>\n",
       "      <td>Biz2Credit Inc</td>\n",
       "      <td>30d+</td>\n",
       "      <td>3.8</td>\n",
       "    </tr>\n",
       "    <tr>\n",
       "      <th>1</th>\n",
       "      <td>Salasar New Age Technologies</td>\n",
       "      <td>30d+</td>\n",
       "      <td>NA</td>\n",
       "    </tr>\n",
       "    <tr>\n",
       "      <th>2</th>\n",
       "      <td>Adobe</td>\n",
       "      <td>10d</td>\n",
       "      <td>4.4</td>\n",
       "    </tr>\n",
       "    <tr>\n",
       "      <th>3</th>\n",
       "      <td>Salasar New Age Technologies</td>\n",
       "      <td>30d+</td>\n",
       "      <td>NA</td>\n",
       "    </tr>\n",
       "    <tr>\n",
       "      <th>4</th>\n",
       "      <td>Techlive</td>\n",
       "      <td>30d+</td>\n",
       "      <td>5.0</td>\n",
       "    </tr>\n",
       "    <tr>\n",
       "      <th>5</th>\n",
       "      <td>CRMNEXT</td>\n",
       "      <td>16d</td>\n",
       "      <td>3.6</td>\n",
       "    </tr>\n",
       "    <tr>\n",
       "      <th>6</th>\n",
       "      <td>Ohmyhome</td>\n",
       "      <td>8d</td>\n",
       "      <td>3.0</td>\n",
       "    </tr>\n",
       "    <tr>\n",
       "      <th>7</th>\n",
       "      <td>Aedifico Tech</td>\n",
       "      <td>30d+</td>\n",
       "      <td>4.0</td>\n",
       "    </tr>\n",
       "    <tr>\n",
       "      <th>8</th>\n",
       "      <td>SearchUrCollege</td>\n",
       "      <td>30d+</td>\n",
       "      <td>NA</td>\n",
       "    </tr>\n",
       "    <tr>\n",
       "      <th>9</th>\n",
       "      <td>Ernst &amp; Young</td>\n",
       "      <td>24h</td>\n",
       "      <td>3.8</td>\n",
       "    </tr>\n",
       "  </tbody>\n",
       "</table>\n",
       "</div>"
      ],
      "text/plain": [
       "                   Company_Name Post_Age Rating\n",
       "0                Biz2Credit Inc     30d+    3.8\n",
       "1  Salasar New Age Technologies     30d+     NA\n",
       "2                         Adobe      10d    4.4\n",
       "3  Salasar New Age Technologies     30d+     NA\n",
       "4                      Techlive     30d+    5.0\n",
       "5                       CRMNEXT      16d    3.6\n",
       "6                      Ohmyhome       8d    3.0\n",
       "7                 Aedifico Tech     30d+    4.0\n",
       "8               SearchUrCollege     30d+     NA\n",
       "9                 Ernst & Young      24h    3.8"
      ]
     },
     "execution_count": 48,
     "metadata": {},
     "output_type": "execute_result"
    }
   ],
   "source": [
    "# Converting to DataFrame\n",
    "df = pd.DataFrame(d)\n",
    "df"
   ]
  },
  {
   "cell_type": "markdown",
   "metadata": {},
   "source": [
    "### Q5: Write a python program to scrape the salary data for Data Scientist designation in Noida location. You have to scrape Company name, Number of salaries, Average salary, Min salary, Max Salary."
   ]
  },
  {
   "cell_type": "code",
   "execution_count": 49,
   "metadata": {},
   "outputs": [],
   "source": [
    "# Fetching the website\n",
    "driver.get(\"https://www.glassdoor.co.in/Salaries/index.htm\")"
   ]
  },
  {
   "cell_type": "code",
   "execution_count": 50,
   "metadata": {},
   "outputs": [],
   "source": [
    "# Entering \"Data Scientist\" in  “Job Title or Company” field\n",
    "job_inp = driver.find_element_by_xpath(\"//input[@id='KeywordSearch']\")\n",
    "job_inp.send_keys('Data Scientist')"
   ]
  },
  {
   "cell_type": "code",
   "execution_count": 51,
   "metadata": {},
   "outputs": [],
   "source": [
    "# Entering “Noida” in “location” field\n",
    "from selenium.webdriver.common.keys import Keys\n",
    "\n",
    "loc_inp = driver.find_element_by_xpath(\"//input[@placeholder='Location']\")\n",
    "loc_inp.send_keys(Keys.CONTROL,\"A\",Keys.DELETE)\n",
    "loc_inp.send_keys(\"Noida\")"
   ]
  },
  {
   "cell_type": "code",
   "execution_count": 52,
   "metadata": {},
   "outputs": [],
   "source": [
    "# Clicking Search Button\n",
    "button =  driver.find_element_by_xpath(\"//button[@class='gd-btn-mkt']\")\n",
    "button.click()"
   ]
  },
  {
   "cell_type": "code",
   "execution_count": 53,
   "metadata": {},
   "outputs": [],
   "source": [
    "# Fetching Company name and No. of days ago when job was posted\n",
    "job_info =  driver.find_elements_by_xpath(\"//div[@data-test='job-info']\")\n",
    "avg_sal = driver.find_elements_by_xpath(\"//div[@class='col-2 d-none d-md-flex flex-row justify-content-end']\")\n",
    "sal_range = driver.find_elements_by_xpath(\"//div[@class='common__RangeBarStyle__values d-flex justify-content-between ']\")"
   ]
  },
  {
   "cell_type": "code",
   "execution_count": 54,
   "metadata": {},
   "outputs": [],
   "source": [
    "# Initialising a dictionary to store the data\n",
    "d = {\n",
    "    'Company_Name' : [],\n",
    "    'No_of_Salaries' : [],\n",
    "    'Avg_Sal' : [],\n",
    "    'Min_Sal' : [],\n",
    "    'Max_Sal' : [],\n",
    "}"
   ]
  },
  {
   "cell_type": "code",
   "execution_count": 55,
   "metadata": {},
   "outputs": [],
   "source": [
    "# Adding the text to corresponding keys in the dictionary\n",
    "for i in range(10):\n",
    "    t = job_info[i].text.split('\\n')\n",
    "    d['Company_Name'].append(t[1])\n",
    "    d['No_of_Salaries'].append(t[2].split()[0])\n",
    "    d['Avg_Sal'].append(avg_sal[i].text.split('\\n')[0])\n",
    "    t = sal_range[i].text.split('\\n')\n",
    "    d['Min_Sal'].append(t[0])\n",
    "    d['Max_Sal'].append(t[1])"
   ]
  },
  {
   "cell_type": "code",
   "execution_count": 56,
   "metadata": {},
   "outputs": [
    {
     "data": {
      "text/html": [
       "<div>\n",
       "<style scoped>\n",
       "    .dataframe tbody tr th:only-of-type {\n",
       "        vertical-align: middle;\n",
       "    }\n",
       "\n",
       "    .dataframe tbody tr th {\n",
       "        vertical-align: top;\n",
       "    }\n",
       "\n",
       "    .dataframe thead th {\n",
       "        text-align: right;\n",
       "    }\n",
       "</style>\n",
       "<table border=\"1\" class=\"dataframe\">\n",
       "  <thead>\n",
       "    <tr style=\"text-align: right;\">\n",
       "      <th></th>\n",
       "      <th>Company_Name</th>\n",
       "      <th>No_of_Salaries</th>\n",
       "      <th>Avg_Sal</th>\n",
       "      <th>Min_Sal</th>\n",
       "      <th>Max_Sal</th>\n",
       "    </tr>\n",
       "  </thead>\n",
       "  <tbody>\n",
       "    <tr>\n",
       "      <th>0</th>\n",
       "      <td>Tata Consultancy Services</td>\n",
       "      <td>14</td>\n",
       "      <td>₹ 5,97,967</td>\n",
       "      <td>₹333K</td>\n",
       "      <td>₹1,080K</td>\n",
       "    </tr>\n",
       "    <tr>\n",
       "      <th>1</th>\n",
       "      <td>Accenture</td>\n",
       "      <td>14</td>\n",
       "      <td>₹ 11,12,243</td>\n",
       "      <td>₹560K</td>\n",
       "      <td>₹2,147K</td>\n",
       "    </tr>\n",
       "    <tr>\n",
       "      <th>2</th>\n",
       "      <td>Delhivery</td>\n",
       "      <td>14</td>\n",
       "      <td>₹ 12,12,741</td>\n",
       "      <td>₹436K</td>\n",
       "      <td>₹11,274K</td>\n",
       "    </tr>\n",
       "    <tr>\n",
       "      <th>3</th>\n",
       "      <td>IBM</td>\n",
       "      <td>13</td>\n",
       "      <td>₹ 7,37,972</td>\n",
       "      <td>₹569K</td>\n",
       "      <td>₹2,648K</td>\n",
       "    </tr>\n",
       "    <tr>\n",
       "      <th>4</th>\n",
       "      <td>Ericsson-Worldwide</td>\n",
       "      <td>12</td>\n",
       "      <td>₹ 7,15,984</td>\n",
       "      <td>₹350K</td>\n",
       "      <td>₹1,565K</td>\n",
       "    </tr>\n",
       "    <tr>\n",
       "      <th>5</th>\n",
       "      <td>UnitedHealth Group</td>\n",
       "      <td>10</td>\n",
       "      <td>₹ 13,41,900</td>\n",
       "      <td>₹1,037K</td>\n",
       "      <td>₹1,500K</td>\n",
       "    </tr>\n",
       "    <tr>\n",
       "      <th>6</th>\n",
       "      <td>Valiance Solutions</td>\n",
       "      <td>9</td>\n",
       "      <td>₹ 7,90,812</td>\n",
       "      <td>₹487K</td>\n",
       "      <td>₹1,421K</td>\n",
       "    </tr>\n",
       "    <tr>\n",
       "      <th>7</th>\n",
       "      <td>Innovaccer</td>\n",
       "      <td>8</td>\n",
       "      <td>₹ 11,81,047</td>\n",
       "      <td>₹602K</td>\n",
       "      <td>₹1,644K</td>\n",
       "    </tr>\n",
       "    <tr>\n",
       "      <th>8</th>\n",
       "      <td>ZS Associates</td>\n",
       "      <td>7</td>\n",
       "      <td>₹ 9,89,924</td>\n",
       "      <td>₹196K</td>\n",
       "      <td>₹1,755K</td>\n",
       "    </tr>\n",
       "    <tr>\n",
       "      <th>9</th>\n",
       "      <td>EXL Service</td>\n",
       "      <td>7</td>\n",
       "      <td>₹ 11,73,127</td>\n",
       "      <td>₹558K</td>\n",
       "      <td>₹1,500K</td>\n",
       "    </tr>\n",
       "  </tbody>\n",
       "</table>\n",
       "</div>"
      ],
      "text/plain": [
       "                Company_Name No_of_Salaries      Avg_Sal  Min_Sal   Max_Sal\n",
       "0  Tata Consultancy Services             14   ₹ 5,97,967    ₹333K   ₹1,080K\n",
       "1                  Accenture             14  ₹ 11,12,243    ₹560K   ₹2,147K\n",
       "2                  Delhivery             14  ₹ 12,12,741    ₹436K  ₹11,274K\n",
       "3                        IBM             13   ₹ 7,37,972    ₹569K   ₹2,648K\n",
       "4         Ericsson-Worldwide             12   ₹ 7,15,984    ₹350K   ₹1,565K\n",
       "5         UnitedHealth Group             10  ₹ 13,41,900  ₹1,037K   ₹1,500K\n",
       "6         Valiance Solutions              9   ₹ 7,90,812    ₹487K   ₹1,421K\n",
       "7                 Innovaccer              8  ₹ 11,81,047    ₹602K   ₹1,644K\n",
       "8              ZS Associates              7   ₹ 9,89,924    ₹196K   ₹1,755K\n",
       "9                EXL Service              7  ₹ 11,73,127    ₹558K   ₹1,500K"
      ]
     },
     "execution_count": 56,
     "metadata": {},
     "output_type": "execute_result"
    }
   ],
   "source": [
    "# Converting to DataFrame\n",
    "df = pd.DataFrame(d)\n",
    "df"
   ]
  },
  {
   "cell_type": "markdown",
   "metadata": {},
   "source": [
    "### Q6 : Scrape data of first 100 sunglasses listings on flipkart.com. You have to scrape four attributes:\n",
    "### 1. Brand\n",
    "### 2. Product Description\n",
    "### 3. Price\n",
    "### 4. Discount %"
   ]
  },
  {
   "cell_type": "code",
   "execution_count": 57,
   "metadata": {},
   "outputs": [],
   "source": [
    "# Fetching the website\n",
    "driver.get(\"https://www.flipkart.com/\")"
   ]
  },
  {
   "cell_type": "code",
   "execution_count": 58,
   "metadata": {},
   "outputs": [],
   "source": [
    "# Closing pop-ups\n",
    "try:\n",
    "    driver.find_element_by_xpath(\"//button[@class='_2KpZ6l _2doB4z']\").click()\n",
    "except:\n",
    "    print(\"--\")"
   ]
  },
  {
   "cell_type": "code",
   "execution_count": 59,
   "metadata": {},
   "outputs": [],
   "source": [
    "# Entering \"Sunglasses\" in  “search for products, brands and more” field\n",
    "item_inp = driver.find_element_by_xpath(\"//input[@class='_3704LK']\")\n",
    "item_inp.send_keys('sunglasses')"
   ]
  },
  {
   "cell_type": "code",
   "execution_count": 60,
   "metadata": {},
   "outputs": [],
   "source": [
    "# Clicking Search Button\n",
    "button =  driver.find_element_by_xpath(\"//button[@class='L0Z3Pu']\")\n",
    "button.click()"
   ]
  },
  {
   "cell_type": "code",
   "execution_count": 61,
   "metadata": {},
   "outputs": [],
   "source": [
    "# Initialising a dictionary to store the data\n",
    "d = {\n",
    "    'Brand_Name' : [],\n",
    "    'Product_Description' : [],\n",
    "    'Price' : [],\n",
    "    'Discount' : []\n",
    "}"
   ]
  },
  {
   "cell_type": "code",
   "execution_count": 62,
   "metadata": {},
   "outputs": [
    {
     "name": "stdout",
     "output_type": "stream",
     "text": [
      "Fetch Complete\n",
      "Data Added To Dictionary\n",
      "Current Length :  40\n",
      "Next Page\n",
      "Fetch Complete\n",
      "Data Added To Dictionary\n",
      "Current Length :  80\n",
      "Next Page\n",
      "Fetch Complete\n",
      "Data Added To Dictionary\n",
      "Current Length :  120\n"
     ]
    }
   ],
   "source": [
    "while True:\n",
    "    # Fetching \"Brand name\", \"Product Description\", \"Price\" and \"Discount\"\n",
    "    brand_name =  driver.find_elements_by_xpath(\"//div[@class='_2WkVRV']\")\n",
    "    prod_des =  driver.find_elements_by_xpath(\"//a[@class='IRpwTa']\")\n",
    "    price =  driver.find_elements_by_xpath(\"//div[@class='_30jeq3']\")\n",
    "    disc =  driver.find_elements_by_xpath(\"//div[@class='_3Ay6Sb']\")\n",
    "    time.sleep(3)\n",
    "    print('Fetch Complete')\n",
    "    \n",
    "    # Adding the text to corresponding keys in the dictionary\n",
    "    d['Brand_Name'].extend(list(map(lambda x: x.text, brand_name)))\n",
    "    d['Product_Description'].extend(list(map(lambda x: x.text, prod_des)))\n",
    "    d['Price'].extend(list(map(lambda x: x.text, price)))\n",
    "    d['Discount'].extend(list(map(lambda x: x.text, disc)))\n",
    "    time.sleep(3)\n",
    "    print('Data Added To Dictionary')\n",
    "    print(\"Current Length : \", len(d['Brand_Name']))\n",
    "    \n",
    "    if(len(d['Brand_Name'])==100):\n",
    "        break\n",
    "        \n",
    "    elif(len(d['Brand_Name'])>100):\n",
    "        d['Brand_Name'] = d['Brand_Name'][:100]\n",
    "        d['Product_Description'] = d['Product_Description'][:100]\n",
    "        d['Price'] = d['Price'][:100]\n",
    "        d['Discount'] = d['Discount'][:100]\n",
    "        break\n",
    "        \n",
    "    else:\n",
    "        next_btn = driver.find_element_by_xpath(\"//span[contains(text(),'Next')]\")\n",
    "        next_btn.click()\n",
    "        time.sleep(3)\n",
    "        print('Next Page')\n",
    "        continue"
   ]
  },
  {
   "cell_type": "code",
   "execution_count": 63,
   "metadata": {},
   "outputs": [
    {
     "data": {
      "text/html": [
       "<div>\n",
       "<style scoped>\n",
       "    .dataframe tbody tr th:only-of-type {\n",
       "        vertical-align: middle;\n",
       "    }\n",
       "\n",
       "    .dataframe tbody tr th {\n",
       "        vertical-align: top;\n",
       "    }\n",
       "\n",
       "    .dataframe thead th {\n",
       "        text-align: right;\n",
       "    }\n",
       "</style>\n",
       "<table border=\"1\" class=\"dataframe\">\n",
       "  <thead>\n",
       "    <tr style=\"text-align: right;\">\n",
       "      <th></th>\n",
       "      <th>Brand_Name</th>\n",
       "      <th>Product_Description</th>\n",
       "      <th>Price</th>\n",
       "      <th>Discount</th>\n",
       "    </tr>\n",
       "  </thead>\n",
       "  <tbody>\n",
       "    <tr>\n",
       "      <th>0</th>\n",
       "      <td>ROYAL SON</td>\n",
       "      <td>Mirrored Aviator Sunglasses (58)</td>\n",
       "      <td>₹399</td>\n",
       "      <td>73% off</td>\n",
       "    </tr>\n",
       "    <tr>\n",
       "      <th>1</th>\n",
       "      <td>ROYAL SON</td>\n",
       "      <td>Polarized, UV Protection Round Sunglasses (49)</td>\n",
       "      <td>₹664</td>\n",
       "      <td>66% off</td>\n",
       "    </tr>\n",
       "    <tr>\n",
       "      <th>2</th>\n",
       "      <td>Fastrack</td>\n",
       "      <td>UV Protection Wayfarer Sunglasses (Free Size)</td>\n",
       "      <td>₹758</td>\n",
       "      <td>15% off</td>\n",
       "    </tr>\n",
       "    <tr>\n",
       "      <th>3</th>\n",
       "      <td>PIRASO</td>\n",
       "      <td>UV Protection Aviator Sunglasses (Free Size)</td>\n",
       "      <td>₹349</td>\n",
       "      <td>78% off</td>\n",
       "    </tr>\n",
       "    <tr>\n",
       "      <th>4</th>\n",
       "      <td>PIRASO</td>\n",
       "      <td>UV Protection Aviator Sunglasses (54)</td>\n",
       "      <td>₹225</td>\n",
       "      <td>85% off</td>\n",
       "    </tr>\n",
       "    <tr>\n",
       "      <th>...</th>\n",
       "      <td>...</td>\n",
       "      <td>...</td>\n",
       "      <td>...</td>\n",
       "      <td>...</td>\n",
       "    </tr>\n",
       "    <tr>\n",
       "      <th>95</th>\n",
       "      <td>NuVew</td>\n",
       "      <td>UV Protection, Mirrored, Gradient Aviator Sung...</td>\n",
       "      <td>₹308</td>\n",
       "      <td>68% off</td>\n",
       "    </tr>\n",
       "    <tr>\n",
       "      <th>96</th>\n",
       "      <td>Fastrack</td>\n",
       "      <td>UV Protection Rectangular Sunglasses (56)</td>\n",
       "      <td>₹679</td>\n",
       "      <td>15% off</td>\n",
       "    </tr>\n",
       "    <tr>\n",
       "      <th>97</th>\n",
       "      <td>Fastrack</td>\n",
       "      <td>UV Protection Wayfarer Sunglasses (54)</td>\n",
       "      <td>₹666</td>\n",
       "      <td>25% off</td>\n",
       "    </tr>\n",
       "    <tr>\n",
       "      <th>98</th>\n",
       "      <td>Aislin</td>\n",
       "      <td>UV Protection, Gradient Wayfarer Sunglasses (57)</td>\n",
       "      <td>₹683</td>\n",
       "      <td>68% off</td>\n",
       "    </tr>\n",
       "    <tr>\n",
       "      <th>99</th>\n",
       "      <td>ROYAL SON</td>\n",
       "      <td>Polarized Retro Square Sunglasses (58)</td>\n",
       "      <td>₹854</td>\n",
       "      <td>57% off</td>\n",
       "    </tr>\n",
       "  </tbody>\n",
       "</table>\n",
       "<p>100 rows × 4 columns</p>\n",
       "</div>"
      ],
      "text/plain": [
       "   Brand_Name                                Product_Description Price  \\\n",
       "0   ROYAL SON                   Mirrored Aviator Sunglasses (58)  ₹399   \n",
       "1   ROYAL SON     Polarized, UV Protection Round Sunglasses (49)  ₹664   \n",
       "2    Fastrack      UV Protection Wayfarer Sunglasses (Free Size)  ₹758   \n",
       "3      PIRASO       UV Protection Aviator Sunglasses (Free Size)  ₹349   \n",
       "4      PIRASO              UV Protection Aviator Sunglasses (54)  ₹225   \n",
       "..        ...                                                ...   ...   \n",
       "95      NuVew  UV Protection, Mirrored, Gradient Aviator Sung...  ₹308   \n",
       "96   Fastrack          UV Protection Rectangular Sunglasses (56)  ₹679   \n",
       "97   Fastrack             UV Protection Wayfarer Sunglasses (54)  ₹666   \n",
       "98     Aislin   UV Protection, Gradient Wayfarer Sunglasses (57)  ₹683   \n",
       "99  ROYAL SON             Polarized Retro Square Sunglasses (58)  ₹854   \n",
       "\n",
       "   Discount  \n",
       "0   73% off  \n",
       "1   66% off  \n",
       "2   15% off  \n",
       "3   78% off  \n",
       "4   85% off  \n",
       "..      ...  \n",
       "95  68% off  \n",
       "96  15% off  \n",
       "97  25% off  \n",
       "98  68% off  \n",
       "99  57% off  \n",
       "\n",
       "[100 rows x 4 columns]"
      ]
     },
     "execution_count": 63,
     "metadata": {},
     "output_type": "execute_result"
    }
   ],
   "source": [
    "# Converting to DataFrame\n",
    "df = pd.DataFrame(d)\n",
    "df"
   ]
  },
  {
   "cell_type": "markdown",
   "metadata": {},
   "source": [
    "### Q7: Scrape 100 reviews data from flipkart.com for iphone11 phone. You have to go the link: https://www.flipkart.com/apple-iphone-11-black-64-gb-includesearpods-poweradapter/p/itm0f37c2240b217?pid=MOBFKCTSVZAXUHGR&lid=LSTMOBFKCTSVZAXUHGREPBFGI&marketplace.\n",
    "### You have to Scrape\n",
    "### 1. Rating\n",
    "### 2. Review_summary\n",
    "### 3. Full review\n",
    "### You have to scrape this data for first 100 reviews.\n"
   ]
  },
  {
   "cell_type": "code",
   "execution_count": 64,
   "metadata": {},
   "outputs": [],
   "source": [
    "# Fetching the website\n",
    "driver.get(\"https://www.flipkart.com/apple-iphone-11-black-64-gb-includesearpods-poweradapter/p/itm0f37c2240b217?pid=MOBFKCTSVZAXUHGR&lid=LSTMOBFKCTSVZAXUHGREPBFGI&marketplace\")"
   ]
  },
  {
   "cell_type": "code",
   "execution_count": 65,
   "metadata": {},
   "outputs": [],
   "source": [
    "# Clicking All Reviews\n",
    "all_reviews =  driver.find_element_by_xpath(\"//div[@class='_3UAT2v _16PBlm']\")\n",
    "all_reviews.click()"
   ]
  },
  {
   "cell_type": "code",
   "execution_count": 66,
   "metadata": {},
   "outputs": [],
   "source": [
    "# Initialising a dictionary to store the data\n",
    "d = {\n",
    "    'Rating' : [],\n",
    "    'Review_Summary' : [],\n",
    "    'Full_Review' : [],\n",
    "}"
   ]
  },
  {
   "cell_type": "code",
   "execution_count": 67,
   "metadata": {},
   "outputs": [
    {
     "name": "stdout",
     "output_type": "stream",
     "text": [
      "Fetch Complete\n",
      "Data Added To Dictionary\n",
      "Current Length :  10\n",
      "Next Page\n",
      "Fetch Complete\n",
      "Data Added To Dictionary\n",
      "Current Length :  20\n",
      "Next Page\n",
      "Fetch Complete\n",
      "Data Added To Dictionary\n",
      "Current Length :  29\n",
      "Next Page\n",
      "Fetch Complete\n",
      "Data Added To Dictionary\n",
      "Current Length :  39\n",
      "Next Page\n",
      "Fetch Complete\n",
      "Data Added To Dictionary\n",
      "Current Length :  49\n",
      "Next Page\n",
      "Fetch Complete\n",
      "Data Added To Dictionary\n",
      "Current Length :  59\n",
      "Next Page\n",
      "Fetch Complete\n",
      "Data Added To Dictionary\n",
      "Current Length :  69\n",
      "Next Page\n",
      "Fetch Complete\n",
      "Data Added To Dictionary\n",
      "Current Length :  79\n",
      "Next Page\n",
      "Fetch Complete\n",
      "Data Added To Dictionary\n",
      "Current Length :  89\n",
      "Next Page\n",
      "Fetch Complete\n",
      "Data Added To Dictionary\n",
      "Current Length :  99\n",
      "Next Page\n",
      "Fetch Complete\n",
      "Data Added To Dictionary\n",
      "Current Length :  109\n"
     ]
    }
   ],
   "source": [
    "import time\n",
    "while True:\n",
    "    # Expanding reviews\n",
    "    try:\n",
    "        read_more =  driver.find_elements_by_xpath(\"//span[@class='_1BWGvX']\")\n",
    "        for i in read_more:\n",
    "            i.click()\n",
    "    except:\n",
    "        print(\"No Expand req\")\n",
    "    \n",
    "    # Fetching \"Rating\", \"Review Summary\", and \"Review Summary\"\n",
    "    rating =  driver.find_elements_by_xpath(\"//div[@class='_3LWZlK _1BLPMq']\")\n",
    "    rev_sum =  driver.find_elements_by_xpath(\"//p[@class='_2-N8zT']\")\n",
    "    rev =  driver.find_elements_by_xpath(\"//div[@class='t-ZTKy']\")\n",
    "    time.sleep(2)\n",
    "    print('Fetch Complete')\n",
    "    \n",
    "    # Adding the text to corresponding keys in the dictionary\n",
    "    d['Rating'].extend(list(map(lambda x: x.text, rating)))\n",
    "    d['Review_Summary'].extend(list(map(lambda x: x.text, rev_sum)))\n",
    "    d['Full_Review'].extend(list(map(lambda x: x.text, rev)))\n",
    "    time.sleep(2)\n",
    "    print('Data Added To Dictionary')\n",
    "    print(\"Current Length : \", len(d['Rating']))\n",
    "    \n",
    "    if(len(d['Rating'])==100):\n",
    "        break\n",
    "        \n",
    "    elif(len(d['Rating'])>100):\n",
    "        d['Rating'] = d['Rating'][:100]\n",
    "        d['Review_Summary'] = d['Review_Summary'][:100]\n",
    "        d['Full_Review'] = d['Full_Review'][:100]\n",
    "        break\n",
    "        \n",
    "    else:\n",
    "        next_btn = driver.find_element_by_xpath(\"//span[contains(text(),'Next')]\")\n",
    "        next_btn.click()\n",
    "        time.sleep(2)\n",
    "        print('Next Page')\n",
    "        continue"
   ]
  },
  {
   "cell_type": "code",
   "execution_count": 68,
   "metadata": {},
   "outputs": [
    {
     "data": {
      "text/html": [
       "<div>\n",
       "<style scoped>\n",
       "    .dataframe tbody tr th:only-of-type {\n",
       "        vertical-align: middle;\n",
       "    }\n",
       "\n",
       "    .dataframe tbody tr th {\n",
       "        vertical-align: top;\n",
       "    }\n",
       "\n",
       "    .dataframe thead th {\n",
       "        text-align: right;\n",
       "    }\n",
       "</style>\n",
       "<table border=\"1\" class=\"dataframe\">\n",
       "  <thead>\n",
       "    <tr style=\"text-align: right;\">\n",
       "      <th></th>\n",
       "      <th>Rating</th>\n",
       "      <th>Review_Summary</th>\n",
       "      <th>Full_Review</th>\n",
       "    </tr>\n",
       "  </thead>\n",
       "  <tbody>\n",
       "    <tr>\n",
       "      <th>0</th>\n",
       "      <td>5</td>\n",
       "      <td>Brilliant</td>\n",
       "      <td>The Best Phone for the Money\\n\\nThe iPhone 11 ...</td>\n",
       "    </tr>\n",
       "    <tr>\n",
       "      <th>1</th>\n",
       "      <td>5</td>\n",
       "      <td>Perfect product!</td>\n",
       "      <td>Amazing phone with great cameras and better ba...</td>\n",
       "    </tr>\n",
       "    <tr>\n",
       "      <th>2</th>\n",
       "      <td>5</td>\n",
       "      <td>Worth every penny</td>\n",
       "      <td>Previously I was using one plus 3t it was a gr...</td>\n",
       "    </tr>\n",
       "    <tr>\n",
       "      <th>3</th>\n",
       "      <td>5</td>\n",
       "      <td>Great product</td>\n",
       "      <td>Amazing Powerful and Durable Gadget.\\n\\nI’m am...</td>\n",
       "    </tr>\n",
       "    <tr>\n",
       "      <th>4</th>\n",
       "      <td>5</td>\n",
       "      <td>Highly recommended</td>\n",
       "      <td>iphone 11 is a very good phone to buy only if ...</td>\n",
       "    </tr>\n",
       "    <tr>\n",
       "      <th>...</th>\n",
       "      <td>...</td>\n",
       "      <td>...</td>\n",
       "      <td>...</td>\n",
       "    </tr>\n",
       "    <tr>\n",
       "      <th>95</th>\n",
       "      <td>4</td>\n",
       "      <td>Awesome</td>\n",
       "      <td>So good look comfortable iPhone 11 I am so ver...</td>\n",
       "    </tr>\n",
       "    <tr>\n",
       "      <th>96</th>\n",
       "      <td>5</td>\n",
       "      <td>Good choice</td>\n",
       "      <td>I have my first iPhone\\nI love it\\nusing 15 da...</td>\n",
       "    </tr>\n",
       "    <tr>\n",
       "      <th>97</th>\n",
       "      <td>5</td>\n",
       "      <td>Worth every penny</td>\n",
       "      <td>I upgraded from one plus 6 to iPhone 11 and it...</td>\n",
       "    </tr>\n",
       "    <tr>\n",
       "      <th>98</th>\n",
       "      <td>5</td>\n",
       "      <td>Classy product</td>\n",
       "      <td>This is very second time I am using iphone I a...</td>\n",
       "    </tr>\n",
       "    <tr>\n",
       "      <th>99</th>\n",
       "      <td>5</td>\n",
       "      <td>Super!</td>\n",
       "      <td>I’d like to start by saying that the overall e...</td>\n",
       "    </tr>\n",
       "  </tbody>\n",
       "</table>\n",
       "<p>100 rows × 3 columns</p>\n",
       "</div>"
      ],
      "text/plain": [
       "   Rating      Review_Summary  \\\n",
       "0       5           Brilliant   \n",
       "1       5    Perfect product!   \n",
       "2       5   Worth every penny   \n",
       "3       5       Great product   \n",
       "4       5  Highly recommended   \n",
       "..    ...                 ...   \n",
       "95      4             Awesome   \n",
       "96      5         Good choice   \n",
       "97      5   Worth every penny   \n",
       "98      5      Classy product   \n",
       "99      5              Super!   \n",
       "\n",
       "                                          Full_Review  \n",
       "0   The Best Phone for the Money\\n\\nThe iPhone 11 ...  \n",
       "1   Amazing phone with great cameras and better ba...  \n",
       "2   Previously I was using one plus 3t it was a gr...  \n",
       "3   Amazing Powerful and Durable Gadget.\\n\\nI’m am...  \n",
       "4   iphone 11 is a very good phone to buy only if ...  \n",
       "..                                                ...  \n",
       "95  So good look comfortable iPhone 11 I am so ver...  \n",
       "96  I have my first iPhone\\nI love it\\nusing 15 da...  \n",
       "97  I upgraded from one plus 6 to iPhone 11 and it...  \n",
       "98  This is very second time I am using iphone I a...  \n",
       "99  I’d like to start by saying that the overall e...  \n",
       "\n",
       "[100 rows x 3 columns]"
      ]
     },
     "execution_count": 68,
     "metadata": {},
     "output_type": "execute_result"
    }
   ],
   "source": [
    "# Converting to DataFrame\n",
    "df = pd.DataFrame(d)\n",
    "df"
   ]
  },
  {
   "cell_type": "markdown",
   "metadata": {},
   "source": [
    "### Q8: Scrape data for first 100 sneakers you find when you visit flipkart.com and search for “sneakers” in the search field.\n",
    "### 1. Brand\n",
    "### 2. Product Description\n",
    "### 3. Price\n",
    "### 4. Discount %"
   ]
  },
  {
   "cell_type": "code",
   "execution_count": 69,
   "metadata": {},
   "outputs": [],
   "source": [
    "# Fetching the website\n",
    "driver.get(\"https://www.flipkart.com/\")"
   ]
  },
  {
   "cell_type": "code",
   "execution_count": 70,
   "metadata": {},
   "outputs": [
    {
     "name": "stdout",
     "output_type": "stream",
     "text": [
      "--\n"
     ]
    }
   ],
   "source": [
    "# Closing pop-ups\n",
    "try:\n",
    "    driver.find_element_by_xpath(\"//button[@class='_2KpZ6l _2doB4z']\").click()\n",
    "except:\n",
    "    print(\"--\")"
   ]
  },
  {
   "cell_type": "code",
   "execution_count": 71,
   "metadata": {},
   "outputs": [],
   "source": [
    "# Entering \"Sneakers\" in  “search for products, brands and more” field\n",
    "item_inp = driver.find_element_by_xpath(\"//input[@class='_3704LK']\")\n",
    "item_inp.send_keys('sneakers')"
   ]
  },
  {
   "cell_type": "code",
   "execution_count": 72,
   "metadata": {},
   "outputs": [],
   "source": [
    "# Clicking Search Button\n",
    "button =  driver.find_element_by_xpath(\"//button[@class='L0Z3Pu']\")\n",
    "button.click()"
   ]
  },
  {
   "cell_type": "code",
   "execution_count": 73,
   "metadata": {},
   "outputs": [],
   "source": [
    "# Initialising a dictionary to store the data\n",
    "d = {\n",
    "    'Brand_Name' : [],\n",
    "    'Product_Description' : [],\n",
    "    'Price' : [],\n",
    "    'Discount' : []\n",
    "}"
   ]
  },
  {
   "cell_type": "code",
   "execution_count": 74,
   "metadata": {},
   "outputs": [
    {
     "name": "stdout",
     "output_type": "stream",
     "text": [
      "Fetch Complete\n",
      "Data Added To Dictionary\n",
      "Current Length :  40\n",
      "Next Page\n",
      "\n",
      "Fetch Complete\n",
      "Data Added To Dictionary\n",
      "Current Length :  80\n",
      "Next Page\n",
      "\n",
      "Fetch Complete\n",
      "Data Added To Dictionary\n",
      "Current Length :  120\n"
     ]
    }
   ],
   "source": [
    "while True:\n",
    "    # Fetching \"Brand name\", \"Product Description\", \"Price\" and \"Discount\"\n",
    "    brand_name =  driver.find_elements_by_xpath(\"//div[@class='_2WkVRV']\")\n",
    "    prod_des =  driver.find_elements_by_xpath(\"//a[@class='IRpwTa']\")\n",
    "    price =  driver.find_elements_by_xpath(\"//div[@class='_30jeq3']\")\n",
    "    disc =  driver.find_elements_by_xpath(\"//div[@class='_3Ay6Sb']\")\n",
    "    time.sleep(3)\n",
    "    print('Fetch Complete')\n",
    "    \n",
    "    # Adding the text to corresponding keys in the dictionary\n",
    "    d['Brand_Name'].extend(list(map(lambda x: x.text, brand_name)))\n",
    "    d['Product_Description'].extend(list(map(lambda x: x.text, prod_des)))\n",
    "    d['Price'].extend(list(map(lambda x: x.text, price)))\n",
    "    d['Discount'].extend(list(map(lambda x: x.text, disc)))\n",
    "    time.sleep(3)\n",
    "    print('Data Added To Dictionary')\n",
    "    print(\"Current Length : \", len(d['Brand_Name']))\n",
    "    \n",
    "    if(len(d['Brand_Name'])==100):\n",
    "        break\n",
    "        \n",
    "    elif(len(d['Brand_Name'])>100):\n",
    "        d['Brand_Name'] = d['Brand_Name'][:100]\n",
    "        d['Product_Description'] = d['Product_Description'][:100]\n",
    "        d['Price'] = d['Price'][:100]\n",
    "        d['Discount'] = d['Discount'][:100]\n",
    "        break\n",
    "        \n",
    "    else:\n",
    "        next_btn = driver.find_element_by_xpath(\"//a[@class='_1LKTO3']\")\n",
    "        next_btn.click()\n",
    "        time.sleep(3)\n",
    "        print('Next Page')\n",
    "        print()\n",
    "        continue"
   ]
  },
  {
   "cell_type": "code",
   "execution_count": 75,
   "metadata": {},
   "outputs": [
    {
     "data": {
      "text/html": [
       "<div>\n",
       "<style scoped>\n",
       "    .dataframe tbody tr th:only-of-type {\n",
       "        vertical-align: middle;\n",
       "    }\n",
       "\n",
       "    .dataframe tbody tr th {\n",
       "        vertical-align: top;\n",
       "    }\n",
       "\n",
       "    .dataframe thead th {\n",
       "        text-align: right;\n",
       "    }\n",
       "</style>\n",
       "<table border=\"1\" class=\"dataframe\">\n",
       "  <thead>\n",
       "    <tr style=\"text-align: right;\">\n",
       "      <th></th>\n",
       "      <th>Brand_Name</th>\n",
       "      <th>Product_Description</th>\n",
       "      <th>Price</th>\n",
       "      <th>Discount</th>\n",
       "    </tr>\n",
       "  </thead>\n",
       "  <tbody>\n",
       "    <tr>\n",
       "      <th>0</th>\n",
       "      <td>ELISEO</td>\n",
       "      <td>Sneakers For Men</td>\n",
       "      <td>₹569</td>\n",
       "      <td>43% off</td>\n",
       "    </tr>\n",
       "    <tr>\n",
       "      <th>1</th>\n",
       "      <td>BERSACHE</td>\n",
       "      <td>Combo pack of 2 casual, sneaker and loafer sho...</td>\n",
       "      <td>₹599</td>\n",
       "      <td>39% off</td>\n",
       "    </tr>\n",
       "    <tr>\n",
       "      <th>2</th>\n",
       "      <td>Chevit</td>\n",
       "      <td>Perfect &amp; Affordable Combo Pack of 02 Pairs Sn...</td>\n",
       "      <td>₹499</td>\n",
       "      <td>72% off</td>\n",
       "    </tr>\n",
       "    <tr>\n",
       "      <th>3</th>\n",
       "      <td>Robbie jones</td>\n",
       "      <td>Casual Sneakers Shoes For Men Sneakers For Men</td>\n",
       "      <td>₹399</td>\n",
       "      <td>60% off</td>\n",
       "    </tr>\n",
       "    <tr>\n",
       "      <th>4</th>\n",
       "      <td>Chevit</td>\n",
       "      <td>Combo Pack of 4 Casual Sneakers With Sneakers ...</td>\n",
       "      <td>₹474</td>\n",
       "      <td>76% off</td>\n",
       "    </tr>\n",
       "    <tr>\n",
       "      <th>...</th>\n",
       "      <td>...</td>\n",
       "      <td>...</td>\n",
       "      <td>...</td>\n",
       "      <td>...</td>\n",
       "    </tr>\n",
       "    <tr>\n",
       "      <th>95</th>\n",
       "      <td>Chevit</td>\n",
       "      <td>Sneakers Sneakers For Men</td>\n",
       "      <td>₹322</td>\n",
       "      <td>88% off</td>\n",
       "    </tr>\n",
       "    <tr>\n",
       "      <th>96</th>\n",
       "      <td>\"trend\"</td>\n",
       "      <td>516 Trendy Star Perfect Sneakers For Men</td>\n",
       "      <td>₹479</td>\n",
       "      <td>67% off</td>\n",
       "    </tr>\n",
       "    <tr>\n",
       "      <th>97</th>\n",
       "      <td>Magnolia</td>\n",
       "      <td>Colourblocked Trending Multicolor Ultralight c...</td>\n",
       "      <td>₹323</td>\n",
       "      <td>57% off</td>\n",
       "    </tr>\n",
       "    <tr>\n",
       "      <th>98</th>\n",
       "      <td>believe</td>\n",
       "      <td>Men's Stylish Casual Shoes Sneakers For Men</td>\n",
       "      <td>₹423</td>\n",
       "      <td>50% off</td>\n",
       "    </tr>\n",
       "    <tr>\n",
       "      <th>99</th>\n",
       "      <td>bluemaker</td>\n",
       "      <td>Rockstyle Trending Multicolor Ultralight canva...</td>\n",
       "      <td>₹499</td>\n",
       "      <td>60% off</td>\n",
       "    </tr>\n",
       "  </tbody>\n",
       "</table>\n",
       "<p>100 rows × 4 columns</p>\n",
       "</div>"
      ],
      "text/plain": [
       "      Brand_Name                                Product_Description Price  \\\n",
       "0         ELISEO                                   Sneakers For Men  ₹569   \n",
       "1       BERSACHE  Combo pack of 2 casual, sneaker and loafer sho...  ₹599   \n",
       "2         Chevit  Perfect & Affordable Combo Pack of 02 Pairs Sn...  ₹499   \n",
       "3   Robbie jones     Casual Sneakers Shoes For Men Sneakers For Men  ₹399   \n",
       "4         Chevit  Combo Pack of 4 Casual Sneakers With Sneakers ...  ₹474   \n",
       "..           ...                                                ...   ...   \n",
       "95        Chevit                          Sneakers Sneakers For Men  ₹322   \n",
       "96       \"trend\"           516 Trendy Star Perfect Sneakers For Men  ₹479   \n",
       "97      Magnolia  Colourblocked Trending Multicolor Ultralight c...  ₹323   \n",
       "98       believe        Men's Stylish Casual Shoes Sneakers For Men  ₹423   \n",
       "99     bluemaker  Rockstyle Trending Multicolor Ultralight canva...  ₹499   \n",
       "\n",
       "   Discount  \n",
       "0   43% off  \n",
       "1   39% off  \n",
       "2   72% off  \n",
       "3   60% off  \n",
       "4   76% off  \n",
       "..      ...  \n",
       "95  88% off  \n",
       "96  67% off  \n",
       "97  57% off  \n",
       "98  50% off  \n",
       "99  60% off  \n",
       "\n",
       "[100 rows x 4 columns]"
      ]
     },
     "execution_count": 75,
     "metadata": {},
     "output_type": "execute_result"
    }
   ],
   "source": [
    "# Converting to DataFrame\n",
    "df = pd.DataFrame(d)\n",
    "df"
   ]
  },
  {
   "cell_type": "markdown",
   "metadata": {},
   "source": [
    "### Q9: Go to the link - https://www.myntra.com/shoes Set Price filter to “Rs. 6649 to Rs. 13099” , Color filter to “Black”. And then scrape First 100 shoes data you get. The data should include “Brand” of the shoes , Short Shoe description, price of the shoe as shown in the below image."
   ]
  },
  {
   "cell_type": "code",
   "execution_count": 96,
   "metadata": {},
   "outputs": [],
   "source": [
    "# Fetching the website\n",
    "driver.get(\"https://www.myntra.com/shoes\")\n",
    "time.sleep(3)"
   ]
  },
  {
   "cell_type": "code",
   "execution_count": 97,
   "metadata": {},
   "outputs": [],
   "source": [
    "# Selecting \"Black\" in colou filter\n",
    "price_chk_box = driver.find_element_by_xpath(\"//input[@value='Black']//following-sibling::div\")\n",
    "price_chk_box.click()\n",
    "time.sleep(3)"
   ]
  },
  {
   "cell_type": "code",
   "execution_count": 98,
   "metadata": {},
   "outputs": [],
   "source": [
    "# Selecting \"Rs. 6657 to Rs. 13105\" in price filter\n",
    "price_chk_box = driver.find_element_by_xpath(\"//input[@value='6657.0 TO 13105.0']//following-sibling::div\")\n",
    "price_chk_box.click()\n",
    "time.sleep(3)"
   ]
  },
  {
   "cell_type": "code",
   "execution_count": 99,
   "metadata": {},
   "outputs": [],
   "source": [
    "# Initialising a dictionary to store the data\n",
    "d = {\n",
    "    'Brand_Name' : [],\n",
    "    'Product_Description' : [],\n",
    "    'Price' : [],\n",
    "}"
   ]
  },
  {
   "cell_type": "code",
   "execution_count": 100,
   "metadata": {},
   "outputs": [
    {
     "name": "stdout",
     "output_type": "stream",
     "text": [
      "Fetch Complete\n",
      "Data Added To Dictionary\n",
      "Current Length :  50\n",
      "Next Page\n",
      "\n",
      "Fetch Complete\n",
      "Data Added To Dictionary\n",
      "Current Length :  100\n"
     ]
    }
   ],
   "source": [
    "while True:\n",
    "    # Fetching \"Brand name\", \"Product Description\", \"Price\" and \"Discount\"\n",
    "    brand_name =  driver.find_elements_by_xpath(\"//h3[@class='product-brand']\")\n",
    "    prod_des =  driver.find_elements_by_xpath(\"//h4[@class='product-product']\")\n",
    "    price =  driver.find_elements_by_xpath(\"//div[@class='product-price']\")\n",
    "    time.sleep(3)\n",
    "    print('Fetch Complete')\n",
    "    \n",
    "    # Adding the text to corresponding keys in the dictionary\n",
    "    d['Brand_Name'].extend(list(map(lambda x: x.text, brand_name)))\n",
    "    d['Product_Description'].extend(list(map(lambda x: x.text, prod_des)))\n",
    "    d['Price'].extend(list(map(lambda x: x.text, price)))\n",
    "\n",
    "    time.sleep(3)\n",
    "    print('Data Added To Dictionary')\n",
    "    print(\"Current Length : \", len(d['Brand_Name']))\n",
    "    \n",
    "    if(len(d['Brand_Name'])==100):\n",
    "        break\n",
    "        \n",
    "    elif(len(d['Brand_Name'])>100):\n",
    "        d['Brand_Name'] = d['Brand_Name'][:100]\n",
    "        d['Product_Description'] = d['Product_Description'][:100]\n",
    "        d['Price'] = d['Price'][:100]\n",
    "        break\n",
    "        \n",
    "    else:\n",
    "        next_btn = driver.find_element_by_xpath(\"//a[@rel='next']\")\n",
    "        next_btn.click()\n",
    "        time.sleep(3)\n",
    "        print('Next Page')\n",
    "        print()\n",
    "        continue"
   ]
  },
  {
   "cell_type": "code",
   "execution_count": 101,
   "metadata": {},
   "outputs": [
    {
     "data": {
      "text/html": [
       "<div>\n",
       "<style scoped>\n",
       "    .dataframe tbody tr th:only-of-type {\n",
       "        vertical-align: middle;\n",
       "    }\n",
       "\n",
       "    .dataframe tbody tr th {\n",
       "        vertical-align: top;\n",
       "    }\n",
       "\n",
       "    .dataframe thead th {\n",
       "        text-align: right;\n",
       "    }\n",
       "</style>\n",
       "<table border=\"1\" class=\"dataframe\">\n",
       "  <thead>\n",
       "    <tr style=\"text-align: right;\">\n",
       "      <th></th>\n",
       "      <th>Brand_Name</th>\n",
       "      <th>Product_Description</th>\n",
       "      <th>Price</th>\n",
       "    </tr>\n",
       "  </thead>\n",
       "  <tbody>\n",
       "    <tr>\n",
       "      <th>0</th>\n",
       "      <td>Nike</td>\n",
       "      <td>Men AIR ZOOM Running Shoes</td>\n",
       "      <td>Rs. 10796Rs. 13495(20% OFF)</td>\n",
       "    </tr>\n",
       "    <tr>\n",
       "      <th>1</th>\n",
       "      <td>Nike</td>\n",
       "      <td>Women Running Shoes</td>\n",
       "      <td>Rs. 7796Rs. 11995(35% OFF)</td>\n",
       "    </tr>\n",
       "    <tr>\n",
       "      <th>2</th>\n",
       "      <td>Nike</td>\n",
       "      <td>Men REACT MILER Running Shoes</td>\n",
       "      <td>Rs. 8796Rs. 10995(20% OFF)</td>\n",
       "    </tr>\n",
       "    <tr>\n",
       "      <th>3</th>\n",
       "      <td>Puma</td>\n",
       "      <td>Men Liberate Nitro Running</td>\n",
       "      <td>Rs. 9999</td>\n",
       "    </tr>\n",
       "    <tr>\n",
       "      <th>4</th>\n",
       "      <td>Nike</td>\n",
       "      <td>Women AIR ZOOM Running Shoes</td>\n",
       "      <td>Rs. 7721Rs. 10295(25% OFF)</td>\n",
       "    </tr>\n",
       "    <tr>\n",
       "      <th>...</th>\n",
       "      <td>...</td>\n",
       "      <td>...</td>\n",
       "      <td>...</td>\n",
       "    </tr>\n",
       "    <tr>\n",
       "      <th>95</th>\n",
       "      <td>Cole Haan</td>\n",
       "      <td>Women Sandals</td>\n",
       "      <td>Rs. 7499Rs. 14999(50% OFF)</td>\n",
       "    </tr>\n",
       "    <tr>\n",
       "      <th>96</th>\n",
       "      <td>Geox</td>\n",
       "      <td>Men Leather Formal Oxfords</td>\n",
       "      <td>Rs. 9367Rs. 12490(25% OFF)</td>\n",
       "    </tr>\n",
       "    <tr>\n",
       "      <th>97</th>\n",
       "      <td>Geox</td>\n",
       "      <td>Men Leather Formal Oxfords</td>\n",
       "      <td>Rs. 7867Rs. 10490(25% OFF)</td>\n",
       "    </tr>\n",
       "    <tr>\n",
       "      <th>98</th>\n",
       "      <td>Geox</td>\n",
       "      <td>Men Leather Formal Derbyacs</td>\n",
       "      <td>Rs. 11242Rs. 14990(25% OFF)</td>\n",
       "    </tr>\n",
       "    <tr>\n",
       "      <th>99</th>\n",
       "      <td>UNDER ARMOUR</td>\n",
       "      <td>Charged RC Sportstyle Sneakers</td>\n",
       "      <td>Rs. 8999</td>\n",
       "    </tr>\n",
       "  </tbody>\n",
       "</table>\n",
       "<p>100 rows × 3 columns</p>\n",
       "</div>"
      ],
      "text/plain": [
       "      Brand_Name             Product_Description                        Price\n",
       "0           Nike      Men AIR ZOOM Running Shoes  Rs. 10796Rs. 13495(20% OFF)\n",
       "1           Nike             Women Running Shoes   Rs. 7796Rs. 11995(35% OFF)\n",
       "2           Nike   Men REACT MILER Running Shoes   Rs. 8796Rs. 10995(20% OFF)\n",
       "3           Puma      Men Liberate Nitro Running                     Rs. 9999\n",
       "4           Nike    Women AIR ZOOM Running Shoes   Rs. 7721Rs. 10295(25% OFF)\n",
       "..           ...                             ...                          ...\n",
       "95     Cole Haan                   Women Sandals   Rs. 7499Rs. 14999(50% OFF)\n",
       "96          Geox      Men Leather Formal Oxfords   Rs. 9367Rs. 12490(25% OFF)\n",
       "97          Geox      Men Leather Formal Oxfords   Rs. 7867Rs. 10490(25% OFF)\n",
       "98          Geox     Men Leather Formal Derbyacs  Rs. 11242Rs. 14990(25% OFF)\n",
       "99  UNDER ARMOUR  Charged RC Sportstyle Sneakers                     Rs. 8999\n",
       "\n",
       "[100 rows x 3 columns]"
      ]
     },
     "execution_count": 101,
     "metadata": {},
     "output_type": "execute_result"
    }
   ],
   "source": [
    "# Converting to DataFrame\n",
    "df = pd.DataFrame(d)\n",
    "df"
   ]
  },
  {
   "cell_type": "markdown",
   "metadata": {},
   "source": [
    "### Q10: Go to webpage https://www.amazon.in/ Enter “Laptop” in the search field and then click the search icon. Then set CPU Type filter to “Intel Core i7” and “Intel Core i9”\n",
    "### After setting the filters scrape first 10 laptops data. You have to scrape 3 attributes for each laptop:\n",
    "### 1. title\n",
    "### 2. Ratings\n",
    "### 3. Price"
   ]
  },
  {
   "cell_type": "code",
   "execution_count": 86,
   "metadata": {},
   "outputs": [],
   "source": [
    "# Fetching the website\n",
    "driver.get(\"https://www.amazon.in\")\n",
    "time.sleep(3)"
   ]
  },
  {
   "cell_type": "code",
   "execution_count": 87,
   "metadata": {},
   "outputs": [],
   "source": [
    "# Entering \"Laptop\" in  search field\n",
    "item_inp = driver.find_element_by_xpath(\"//input[@id='twotabsearchtextbox']\")\n",
    "item_inp.send_keys('Laptops')"
   ]
  },
  {
   "cell_type": "code",
   "execution_count": 88,
   "metadata": {},
   "outputs": [],
   "source": [
    "# Clicking Search Button\n",
    "search_btn =  driver.find_element_by_xpath(\"//span[@id='nav-search-submit-text']\")\n",
    "search_btn.click()"
   ]
  },
  {
   "cell_type": "code",
   "execution_count": 89,
   "metadata": {},
   "outputs": [],
   "source": [
    "# Selecting \"Intel Core i7\" in CPU type filter\n",
    "i7_lab = driver.find_element_by_xpath(\"//li[@aria-label='Intel Core i7']//following-sibling::div\")\n",
    "i7_lab.click()\n",
    "time.sleep(3)"
   ]
  },
  {
   "cell_type": "code",
   "execution_count": 90,
   "metadata": {},
   "outputs": [],
   "source": [
    "# Selecting \"Intel Core i9\" in CPU type filter\n",
    "i9_lab = driver.find_element_by_xpath(\"//li[@aria-label='Intel Core i9']//following-sibling::div\")\n",
    "i9_lab.click()\n",
    "time.sleep(3)"
   ]
  },
  {
   "cell_type": "code",
   "execution_count": 91,
   "metadata": {},
   "outputs": [],
   "source": [
    "# Initialising a dictionary to store the data\n",
    "d = {\n",
    "    'Title' : [],\n",
    "    'Ratings' : [],\n",
    "    'Price' : [],\n",
    "}"
   ]
  },
  {
   "cell_type": "code",
   "execution_count": 92,
   "metadata": {},
   "outputs": [
    {
     "data": {
      "text/plain": [
       "{'Title': ['Mi Notebook Horizon Edition 14 Intel Core i7-10510U 10th Gen Thin and Light Laptop(8GB/512GB SSD/Windows 10/Nvidia MX350 2GB Graphics/Grey/1.35Kg), XMA1904-AF+Webcam',\n",
       "  'ASUS TUF Gaming F15, 15.6\" FHD 144Hz, Intel Core i7-10870H 10th Gen, GTX 1650 Ti GDDR6 4GB Graphics, Gaming Laptop (16GB RAM/1TB HDD + 256GB SSD/Windows 10/Fortress Gray/2.3 Kg), FX566LI-HN133T',\n",
       "  'Apple MacBook Pro (16-inch, 16GB RAM, 512GB Storage, 2.6GHz 9th Gen Intel Core i7) - Space Grey',\n",
       "  'ASUS ZenBook 14 (2020) Intel Core i7-1165G7 11th Gen 14-inch FHD Thin and Light Laptop (16GB RAM/512GB NVMe SSD/Windows 10/MS Office 2019/Intel Iris Xᵉ Graphics/Pine Grey/1.17 kg), UX425EA-BM701TS',\n",
       "  'Dell G3 3500 Gaming 15.6inch 120hz FHD Display Laptop (10th Gen i7-10750H / 8 GB / 512 SSD / GTX 1650 4GB / 1Yr Premium Warranty/ Win 10 + MS Office H&S 2019) D560250WIN9BE',\n",
       "  'Apple MacBook Pro (16-inch, 16GB RAM, 1TB Storage, 2.3GHz 9th Gen Intel Core i9) - Space Grey',\n",
       "  'HP Pavilion x360 Touchscreen 2-in-1 FHD 14-inch Laptop (10th Gen Core i7-10510U/8GB/512GB SSD/Windows 10 Home/MS Office/Mineral Silver/1.58 kg), 14-dh1180tu',\n",
       "  'Lenovo IdeaPad Flex 5 11th Gen Intel Core i7 14-inch FHD IPS 2-in-1 Touchscreen Laptop (16GB/512GB SSD/Win 10/Office 2019/Lenovo Digital Pen Stylus/Fingerprint Reader/Graphite Grey/1.5Kg), 82HS0092IN',\n",
       "  'HP Pavilion x360 (2021) 14\" FHD Touchscreen Laptop, 11th Gen Core i7, 8 GB RAM, 512GB SSD, 2-in-1 Convertible, Windows 10, MS Office, Finger Print Reader, (DW1040TU)',\n",
       "  'LifeDigital ZED AIR CX7 15.6 IPS FHD Screen Black Laptop (Intel Core i7, 8GB RAM, 512GB SSD, Windows 10)'],\n",
       " 'Ratings': [],\n",
       " 'Price': []}"
      ]
     },
     "execution_count": 92,
     "metadata": {},
     "output_type": "execute_result"
    }
   ],
   "source": [
    "list_ = []\n",
    "for i in range(10):\n",
    "    xpath = \"//div[@data-index='\"+ str(i+1) + \"']\"\n",
    "    ele = driver.find_element_by_xpath(xpath)\n",
    "    list_.append(ele)\n",
    "    d['Title'].append(ele.find_element_by_tag_name(\"h2\").text)\n",
    "d"
   ]
  },
  {
   "cell_type": "code",
   "execution_count": 93,
   "metadata": {},
   "outputs": [
    {
     "data": {
      "text/plain": [
       "{'Title': ['Mi Notebook Horizon Edition 14 Intel Core i7-10510U 10th Gen Thin and Light Laptop(8GB/512GB SSD/Windows 10/Nvidia MX350 2GB Graphics/Grey/1.35Kg), XMA1904-AF+Webcam',\n",
       "  'ASUS TUF Gaming F15, 15.6\" FHD 144Hz, Intel Core i7-10870H 10th Gen, GTX 1650 Ti GDDR6 4GB Graphics, Gaming Laptop (16GB RAM/1TB HDD + 256GB SSD/Windows 10/Fortress Gray/2.3 Kg), FX566LI-HN133T',\n",
       "  'Apple MacBook Pro (16-inch, 16GB RAM, 512GB Storage, 2.6GHz 9th Gen Intel Core i7) - Space Grey',\n",
       "  'ASUS ZenBook 14 (2020) Intel Core i7-1165G7 11th Gen 14-inch FHD Thin and Light Laptop (16GB RAM/512GB NVMe SSD/Windows 10/MS Office 2019/Intel Iris Xᵉ Graphics/Pine Grey/1.17 kg), UX425EA-BM701TS',\n",
       "  'Dell G3 3500 Gaming 15.6inch 120hz FHD Display Laptop (10th Gen i7-10750H / 8 GB / 512 SSD / GTX 1650 4GB / 1Yr Premium Warranty/ Win 10 + MS Office H&S 2019) D560250WIN9BE',\n",
       "  'Apple MacBook Pro (16-inch, 16GB RAM, 1TB Storage, 2.3GHz 9th Gen Intel Core i9) - Space Grey',\n",
       "  'HP Pavilion x360 Touchscreen 2-in-1 FHD 14-inch Laptop (10th Gen Core i7-10510U/8GB/512GB SSD/Windows 10 Home/MS Office/Mineral Silver/1.58 kg), 14-dh1180tu',\n",
       "  'Lenovo IdeaPad Flex 5 11th Gen Intel Core i7 14-inch FHD IPS 2-in-1 Touchscreen Laptop (16GB/512GB SSD/Win 10/Office 2019/Lenovo Digital Pen Stylus/Fingerprint Reader/Graphite Grey/1.5Kg), 82HS0092IN',\n",
       "  'HP Pavilion x360 (2021) 14\" FHD Touchscreen Laptop, 11th Gen Core i7, 8 GB RAM, 512GB SSD, 2-in-1 Convertible, Windows 10, MS Office, Finger Print Reader, (DW1040TU)',\n",
       "  'LifeDigital ZED AIR CX7 15.6 IPS FHD Screen Black Laptop (Intel Core i7, 8GB RAM, 512GB SSD, Windows 10)'],\n",
       " 'Ratings': [],\n",
       " 'Price': ['₹58,999',\n",
       "  '₹92,888',\n",
       "  '₹1,85,990',\n",
       "  '₹96,890',\n",
       "  '₹77,990',\n",
       "  '₹2,23,190',\n",
       "  '₹76,990',\n",
       "  '₹93,500',\n",
       "  '₹77,993',\n",
       "  '₹39,990']}"
      ]
     },
     "execution_count": 93,
     "metadata": {},
     "output_type": "execute_result"
    }
   ],
   "source": [
    "for i in range(10):\n",
    "    try:\n",
    "        ele = list_[i]\n",
    "        price = ele.find_element_by_class_name('a-price-symbol').text + ele.find_element_by_class_name('a-price-whole').text\n",
    "        d['Price'].append(price)\n",
    "    except:\n",
    "        d['Price'].append(\"NA\")\n",
    "        continue\n",
    "d"
   ]
  },
  {
   "cell_type": "code",
   "execution_count": 94,
   "metadata": {},
   "outputs": [],
   "source": [
    "urls = driver.find_elements_by_xpath(\"//a[@class='a-link-normal a-text-normal']\")\n",
    "url = []\n",
    "for i in range(10):\n",
    "    url.append(urls[i].get_attribute('href'))\n",
    "for i in range(10):\n",
    "    driver.get(url[i])\n",
    "    try:\n",
    "        rating = driver.find_element_by_xpath(\"//span[@id='acrCustomerReviewText']\")\n",
    "        rating.click()\n",
    "        d['Ratings'].append(driver.find_element_by_xpath(\"//span[@data-hook='rating-out-of-text']\").text)\n",
    "    except NoSuchElementException:\n",
    "        d['Ratings'].append(\"NA\")"
   ]
  },
  {
   "cell_type": "code",
   "execution_count": 95,
   "metadata": {},
   "outputs": [
    {
     "data": {
      "text/html": [
       "<div>\n",
       "<style scoped>\n",
       "    .dataframe tbody tr th:only-of-type {\n",
       "        vertical-align: middle;\n",
       "    }\n",
       "\n",
       "    .dataframe tbody tr th {\n",
       "        vertical-align: top;\n",
       "    }\n",
       "\n",
       "    .dataframe thead th {\n",
       "        text-align: right;\n",
       "    }\n",
       "</style>\n",
       "<table border=\"1\" class=\"dataframe\">\n",
       "  <thead>\n",
       "    <tr style=\"text-align: right;\">\n",
       "      <th></th>\n",
       "      <th>Title</th>\n",
       "      <th>Ratings</th>\n",
       "      <th>Price</th>\n",
       "    </tr>\n",
       "  </thead>\n",
       "  <tbody>\n",
       "    <tr>\n",
       "      <th>0</th>\n",
       "      <td>Mi Notebook Horizon Edition 14 Intel Core i7-1...</td>\n",
       "      <td>NA</td>\n",
       "      <td>₹58,999</td>\n",
       "    </tr>\n",
       "    <tr>\n",
       "      <th>1</th>\n",
       "      <td>ASUS TUF Gaming F15, 15.6\" FHD 144Hz, Intel Co...</td>\n",
       "      <td>4.3 out of 5</td>\n",
       "      <td>₹92,888</td>\n",
       "    </tr>\n",
       "    <tr>\n",
       "      <th>2</th>\n",
       "      <td>Apple MacBook Pro (16-inch, 16GB RAM, 512GB St...</td>\n",
       "      <td>4.6 out of 5</td>\n",
       "      <td>₹1,85,990</td>\n",
       "    </tr>\n",
       "    <tr>\n",
       "      <th>3</th>\n",
       "      <td>ASUS ZenBook 14 (2020) Intel Core i7-1165G7 11...</td>\n",
       "      <td>4.4 out of 5</td>\n",
       "      <td>₹96,890</td>\n",
       "    </tr>\n",
       "    <tr>\n",
       "      <th>4</th>\n",
       "      <td>Dell G3 3500 Gaming 15.6inch 120hz FHD Display...</td>\n",
       "      <td>4.4 out of 5</td>\n",
       "      <td>₹77,990</td>\n",
       "    </tr>\n",
       "    <tr>\n",
       "      <th>5</th>\n",
       "      <td>Apple MacBook Pro (16-inch, 16GB RAM, 1TB Stor...</td>\n",
       "      <td>4 out of 5</td>\n",
       "      <td>₹2,23,190</td>\n",
       "    </tr>\n",
       "    <tr>\n",
       "      <th>6</th>\n",
       "      <td>HP Pavilion x360 Touchscreen 2-in-1 FHD 14-inc...</td>\n",
       "      <td>4.4 out of 5</td>\n",
       "      <td>₹76,990</td>\n",
       "    </tr>\n",
       "    <tr>\n",
       "      <th>7</th>\n",
       "      <td>Lenovo IdeaPad Flex 5 11th Gen Intel Core i7 1...</td>\n",
       "      <td>3.9 out of 5</td>\n",
       "      <td>₹93,500</td>\n",
       "    </tr>\n",
       "    <tr>\n",
       "      <th>8</th>\n",
       "      <td>HP Pavilion x360 (2021) 14\" FHD Touchscreen La...</td>\n",
       "      <td>4.6 out of 5</td>\n",
       "      <td>₹77,993</td>\n",
       "    </tr>\n",
       "    <tr>\n",
       "      <th>9</th>\n",
       "      <td>LifeDigital ZED AIR CX7 15.6 IPS FHD Screen Bl...</td>\n",
       "      <td>3.2 out of 5</td>\n",
       "      <td>₹39,990</td>\n",
       "    </tr>\n",
       "  </tbody>\n",
       "</table>\n",
       "</div>"
      ],
      "text/plain": [
       "                                               Title       Ratings      Price\n",
       "0  Mi Notebook Horizon Edition 14 Intel Core i7-1...            NA    ₹58,999\n",
       "1  ASUS TUF Gaming F15, 15.6\" FHD 144Hz, Intel Co...  4.3 out of 5    ₹92,888\n",
       "2  Apple MacBook Pro (16-inch, 16GB RAM, 512GB St...  4.6 out of 5  ₹1,85,990\n",
       "3  ASUS ZenBook 14 (2020) Intel Core i7-1165G7 11...  4.4 out of 5    ₹96,890\n",
       "4  Dell G3 3500 Gaming 15.6inch 120hz FHD Display...  4.4 out of 5    ₹77,990\n",
       "5  Apple MacBook Pro (16-inch, 16GB RAM, 1TB Stor...    4 out of 5  ₹2,23,190\n",
       "6  HP Pavilion x360 Touchscreen 2-in-1 FHD 14-inc...  4.4 out of 5    ₹76,990\n",
       "7  Lenovo IdeaPad Flex 5 11th Gen Intel Core i7 1...  3.9 out of 5    ₹93,500\n",
       "8  HP Pavilion x360 (2021) 14\" FHD Touchscreen La...  4.6 out of 5    ₹77,993\n",
       "9  LifeDigital ZED AIR CX7 15.6 IPS FHD Screen Bl...  3.2 out of 5    ₹39,990"
      ]
     },
     "execution_count": 95,
     "metadata": {},
     "output_type": "execute_result"
    }
   ],
   "source": [
    "# Converting to DataFrame\n",
    "df = pd.DataFrame(d)\n",
    "df"
   ]
  },
  {
   "cell_type": "code",
   "execution_count": 102,
   "metadata": {},
   "outputs": [],
   "source": [
    "driver.close()"
   ]
  }
 ],
 "metadata": {
  "kernelspec": {
   "display_name": "Python 3",
   "language": "python",
   "name": "python3"
  },
  "language_info": {
   "codemirror_mode": {
    "name": "ipython",
    "version": 3
   },
   "file_extension": ".py",
   "mimetype": "text/x-python",
   "name": "python",
   "nbconvert_exporter": "python",
   "pygments_lexer": "ipython3",
   "version": "3.8.5"
  }
 },
 "nbformat": 4,
 "nbformat_minor": 4
}
